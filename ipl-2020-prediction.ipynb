{
 "cells": [
  {
   "cell_type": "code",
   "execution_count": 1,
   "metadata": {
    "_cell_guid": "b1076dfc-b9ad-4769-8c92-a6c4dae69d19",
    "_uuid": "8f2839f25d086af736a60e9eeb907d3b93b6e0e5",
    "execution": {
     "iopub.execute_input": "2021-02-11T12:19:59.737173Z",
     "iopub.status.busy": "2021-02-11T12:19:59.736433Z",
     "iopub.status.idle": "2021-02-11T12:19:59.744306Z",
     "shell.execute_reply": "2021-02-11T12:19:59.743141Z"
    },
    "papermill": {
     "duration": 0.043264,
     "end_time": "2021-02-11T12:19:59.744629",
     "exception": false,
     "start_time": "2021-02-11T12:19:59.701365",
     "status": "completed"
    },
    "tags": []
   },
   "outputs": [
    {
     "name": "stdout",
     "output_type": "stream",
     "text": [
      "/kaggle/input/ipl-2020-player-performance/IPL 2020 Squads.csv\n",
      "/kaggle/input/ipl-2020-player-performance/sample_submission.csv\n",
      "/kaggle/input/ipl-2020-player-performance/Matches IPL 2020.csv\n",
      "/kaggle/input/ipl-2020-player-performance/Matches IPL 2008-2019.csv\n",
      "/kaggle/input/ipl-2020-player-performance/Training.csv\n"
     ]
    }
   ],
   "source": [
    "# This Python 3 environment comes with many helpful analytics libraries installed\n",
    "# It is defined by the kaggle/python Docker image: https://github.com/kaggle/docker-python\n",
    "# For example, here's several helpful packages to load\n",
    "\n",
    "import numpy as np # linear algebra\n",
    "import pandas as pd # data processing, CSV file I/O (e.g. pd.read_csv)\n",
    "\n",
    "# Input data files are available in the read-only \"../input/\" directory\n",
    "# For example, running this (by clicking run or pressing Shift+Enter) will list all files under the input directory\n",
    "\n",
    "import os\n",
    "for dirname, _, filenames in os.walk('/kaggle/input'):\n",
    "    for filename in filenames:\n",
    "        print(os.path.join(dirname, filename))\n",
    "\n",
    "# You can write up to 20GB to the current directory (/kaggle/working/) that gets preserved as output when you create a version using \"Save & Run All\" \n",
    "# You can also write temporary files to /kaggle/temp/, but they won't be saved outside of the current session"
   ]
  },
  {
   "cell_type": "markdown",
   "metadata": {
    "papermill": {
     "duration": 0.027182,
     "end_time": "2021-02-11T12:19:59.799693",
     "exception": false,
     "start_time": "2021-02-11T12:19:59.772511",
     "status": "completed"
    },
    "tags": []
   },
   "source": [
    "# DATA IMPORTING"
   ]
  },
  {
   "cell_type": "code",
   "execution_count": 2,
   "metadata": {
    "execution": {
     "iopub.execute_input": "2021-02-11T12:19:59.859827Z",
     "iopub.status.busy": "2021-02-11T12:19:59.859025Z",
     "iopub.status.idle": "2021-02-11T12:19:59.979430Z",
     "shell.execute_reply": "2021-02-11T12:19:59.978636Z"
    },
    "papermill": {
     "duration": 0.152955,
     "end_time": "2021-02-11T12:19:59.979620",
     "exception": false,
     "start_time": "2021-02-11T12:19:59.826665",
     "status": "completed"
    },
    "tags": []
   },
   "outputs": [],
   "source": [
    "training_data = pd.read_csv(\"../input/ipl-2020-player-performance/Training.csv\")\n",
    "training_data_date = pd.read_csv(\"../input/ipl-2020-player-performance/Matches IPL 2008-2019.csv\")\n",
    "current_data_date = pd.read_csv(\"../input/ipl-2020-player-performance/Matches IPL 2020.csv\")\n",
    "submission = pd.read_csv(\"../input/ipl-2020-player-performance/sample_submission.csv\")"
   ]
  },
  {
   "cell_type": "code",
   "execution_count": 3,
   "metadata": {
    "execution": {
     "iopub.execute_input": "2021-02-11T12:20:00.052715Z",
     "iopub.status.busy": "2021-02-11T12:20:00.052047Z",
     "iopub.status.idle": "2021-02-11T12:20:00.077185Z",
     "shell.execute_reply": "2021-02-11T12:20:00.077687Z"
    },
    "papermill": {
     "duration": 0.067597,
     "end_time": "2021-02-11T12:20:00.077898",
     "exception": false,
     "start_time": "2021-02-11T12:20:00.010301",
     "status": "completed"
    },
    "tags": []
   },
   "outputs": [
    {
     "data": {
      "text/html": [
       "<div>\n",
       "<style scoped>\n",
       "    .dataframe tbody tr th:only-of-type {\n",
       "        vertical-align: middle;\n",
       "    }\n",
       "\n",
       "    .dataframe tbody tr th {\n",
       "        vertical-align: top;\n",
       "    }\n",
       "\n",
       "    .dataframe thead th {\n",
       "        text-align: right;\n",
       "    }\n",
       "</style>\n",
       "<table border=\"1\" class=\"dataframe\">\n",
       "  <thead>\n",
       "    <tr style=\"text-align: right;\">\n",
       "      <th></th>\n",
       "      <th>Id</th>\n",
       "      <th>Runs</th>\n",
       "      <th>Boundaries</th>\n",
       "      <th>Six</th>\n",
       "      <th>Fifty</th>\n",
       "      <th>Hundred</th>\n",
       "      <th>Duck</th>\n",
       "      <th>Batting_Points</th>\n",
       "      <th>Wickets</th>\n",
       "      <th>4W_Haul</th>\n",
       "      <th>5W_Haul</th>\n",
       "      <th>Maidens</th>\n",
       "      <th>Bowling_Points</th>\n",
       "      <th>Total Points</th>\n",
       "    </tr>\n",
       "  </thead>\n",
       "  <tbody>\n",
       "    <tr>\n",
       "      <th>0</th>\n",
       "      <td>1_Bipul Sharma</td>\n",
       "      <td>0</td>\n",
       "      <td>0</td>\n",
       "      <td>0</td>\n",
       "      <td>0</td>\n",
       "      <td>0</td>\n",
       "      <td>0</td>\n",
       "      <td>0</td>\n",
       "      <td>1</td>\n",
       "      <td>0</td>\n",
       "      <td>0</td>\n",
       "      <td>0</td>\n",
       "      <td>25</td>\n",
       "      <td>25</td>\n",
       "    </tr>\n",
       "    <tr>\n",
       "      <th>1</th>\n",
       "      <td>1_DJ Hooda</td>\n",
       "      <td>16</td>\n",
       "      <td>1</td>\n",
       "      <td>1</td>\n",
       "      <td>0</td>\n",
       "      <td>0</td>\n",
       "      <td>0</td>\n",
       "      <td>19</td>\n",
       "      <td>1</td>\n",
       "      <td>0</td>\n",
       "      <td>0</td>\n",
       "      <td>0</td>\n",
       "      <td>25</td>\n",
       "      <td>44</td>\n",
       "    </tr>\n",
       "    <tr>\n",
       "      <th>2</th>\n",
       "      <td>1_KM Jadhav</td>\n",
       "      <td>31</td>\n",
       "      <td>5</td>\n",
       "      <td>1</td>\n",
       "      <td>0</td>\n",
       "      <td>0</td>\n",
       "      <td>0</td>\n",
       "      <td>38</td>\n",
       "      <td>0</td>\n",
       "      <td>0</td>\n",
       "      <td>0</td>\n",
       "      <td>0</td>\n",
       "      <td>0</td>\n",
       "      <td>38</td>\n",
       "    </tr>\n",
       "    <tr>\n",
       "      <th>3</th>\n",
       "      <td>1_Mandeep Singh</td>\n",
       "      <td>24</td>\n",
       "      <td>5</td>\n",
       "      <td>0</td>\n",
       "      <td>0</td>\n",
       "      <td>0</td>\n",
       "      <td>0</td>\n",
       "      <td>29</td>\n",
       "      <td>0</td>\n",
       "      <td>0</td>\n",
       "      <td>0</td>\n",
       "      <td>0</td>\n",
       "      <td>0</td>\n",
       "      <td>29</td>\n",
       "    </tr>\n",
       "    <tr>\n",
       "      <th>4</th>\n",
       "      <td>1_Yuvraj Singh</td>\n",
       "      <td>62</td>\n",
       "      <td>10</td>\n",
       "      <td>3</td>\n",
       "      <td>1</td>\n",
       "      <td>0</td>\n",
       "      <td>0</td>\n",
       "      <td>86</td>\n",
       "      <td>0</td>\n",
       "      <td>0</td>\n",
       "      <td>0</td>\n",
       "      <td>0</td>\n",
       "      <td>0</td>\n",
       "      <td>86</td>\n",
       "    </tr>\n",
       "  </tbody>\n",
       "</table>\n",
       "</div>"
      ],
      "text/plain": [
       "                Id  Runs  Boundaries  Six  Fifty  Hundred  Duck  \\\n",
       "0   1_Bipul Sharma     0           0    0      0        0     0   \n",
       "1       1_DJ Hooda    16           1    1      0        0     0   \n",
       "2      1_KM Jadhav    31           5    1      0        0     0   \n",
       "3  1_Mandeep Singh    24           5    0      0        0     0   \n",
       "4   1_Yuvraj Singh    62          10    3      1        0     0   \n",
       "\n",
       "   Batting_Points  Wickets  4W_Haul  5W_Haul  Maidens  Bowling_Points  \\\n",
       "0               0        1        0        0        0              25   \n",
       "1              19        1        0        0        0              25   \n",
       "2              38        0        0        0        0               0   \n",
       "3              29        0        0        0        0               0   \n",
       "4              86        0        0        0        0               0   \n",
       "\n",
       "   Total Points  \n",
       "0            25  \n",
       "1            44  \n",
       "2            38  \n",
       "3            29  \n",
       "4            86  "
      ]
     },
     "execution_count": 3,
     "metadata": {},
     "output_type": "execute_result"
    }
   ],
   "source": [
    "training_data.head()"
   ]
  },
  {
   "cell_type": "markdown",
   "metadata": {
    "papermill": {
     "duration": 0.02634,
     "end_time": "2021-02-11T12:20:00.132136",
     "exception": false,
     "start_time": "2021-02-11T12:20:00.105796",
     "status": "completed"
    },
    "tags": []
   },
   "source": [
    "**Data Cleaning**"
   ]
  },
  {
   "cell_type": "code",
   "execution_count": 4,
   "metadata": {
    "execution": {
     "iopub.execute_input": "2021-02-11T12:20:00.190207Z",
     "iopub.status.busy": "2021-02-11T12:20:00.189562Z",
     "iopub.status.idle": "2021-02-11T12:20:00.251896Z",
     "shell.execute_reply": "2021-02-11T12:20:00.251240Z"
    },
    "papermill": {
     "duration": 0.09295,
     "end_time": "2021-02-11T12:20:00.252058",
     "exception": false,
     "start_time": "2021-02-11T12:20:00.159108",
     "status": "completed"
    },
    "tags": []
   },
   "outputs": [
    {
     "data": {
      "text/html": [
       "<div>\n",
       "<style scoped>\n",
       "    .dataframe tbody tr th:only-of-type {\n",
       "        vertical-align: middle;\n",
       "    }\n",
       "\n",
       "    .dataframe tbody tr th {\n",
       "        vertical-align: top;\n",
       "    }\n",
       "\n",
       "    .dataframe thead th {\n",
       "        text-align: right;\n",
       "    }\n",
       "</style>\n",
       "<table border=\"1\" class=\"dataframe\">\n",
       "  <thead>\n",
       "    <tr style=\"text-align: right;\">\n",
       "      <th></th>\n",
       "      <th>Runs</th>\n",
       "      <th>Boundaries</th>\n",
       "      <th>Six</th>\n",
       "      <th>Fifty</th>\n",
       "      <th>Hundred</th>\n",
       "      <th>Duck</th>\n",
       "      <th>Batting_Points</th>\n",
       "      <th>Wickets</th>\n",
       "      <th>4W_Haul</th>\n",
       "      <th>5W_Haul</th>\n",
       "      <th>Maidens</th>\n",
       "      <th>Bowling_Points</th>\n",
       "      <th>Total Points</th>\n",
       "    </tr>\n",
       "  </thead>\n",
       "  <tbody>\n",
       "    <tr>\n",
       "      <th>count</th>\n",
       "      <td>15916.000000</td>\n",
       "      <td>15916.000000</td>\n",
       "      <td>15916.00000</td>\n",
       "      <td>15916.000000</td>\n",
       "      <td>15916.000000</td>\n",
       "      <td>15916.000000</td>\n",
       "      <td>15916.000000</td>\n",
       "      <td>15916.000000</td>\n",
       "      <td>15916.000000</td>\n",
       "      <td>15916.000000</td>\n",
       "      <td>15916.000000</td>\n",
       "      <td>15916.000000</td>\n",
       "      <td>15916.000000</td>\n",
       "    </tr>\n",
       "    <tr>\n",
       "      <th>mean</th>\n",
       "      <td>14.029027</td>\n",
       "      <td>1.794546</td>\n",
       "      <td>0.51332</td>\n",
       "      <td>0.070872</td>\n",
       "      <td>0.003895</td>\n",
       "      <td>0.057741</td>\n",
       "      <td>17.364036</td>\n",
       "      <td>0.501508</td>\n",
       "      <td>0.007791</td>\n",
       "      <td>0.001257</td>\n",
       "      <td>0.015142</td>\n",
       "      <td>12.741267</td>\n",
       "      <td>30.105303</td>\n",
       "    </tr>\n",
       "    <tr>\n",
       "      <th>std</th>\n",
       "      <td>19.932138</td>\n",
       "      <td>2.857668</td>\n",
       "      <td>1.14761</td>\n",
       "      <td>0.256619</td>\n",
       "      <td>0.062294</td>\n",
       "      <td>0.233260</td>\n",
       "      <td>26.402587</td>\n",
       "      <td>0.860593</td>\n",
       "      <td>0.087924</td>\n",
       "      <td>0.035427</td>\n",
       "      <td>0.123146</td>\n",
       "      <td>22.079906</td>\n",
       "      <td>30.143498</td>\n",
       "    </tr>\n",
       "    <tr>\n",
       "      <th>min</th>\n",
       "      <td>0.000000</td>\n",
       "      <td>0.000000</td>\n",
       "      <td>0.00000</td>\n",
       "      <td>0.000000</td>\n",
       "      <td>0.000000</td>\n",
       "      <td>0.000000</td>\n",
       "      <td>-2.000000</td>\n",
       "      <td>0.000000</td>\n",
       "      <td>0.000000</td>\n",
       "      <td>0.000000</td>\n",
       "      <td>0.000000</td>\n",
       "      <td>0.000000</td>\n",
       "      <td>-2.000000</td>\n",
       "    </tr>\n",
       "    <tr>\n",
       "      <th>25%</th>\n",
       "      <td>0.000000</td>\n",
       "      <td>0.000000</td>\n",
       "      <td>0.00000</td>\n",
       "      <td>0.000000</td>\n",
       "      <td>0.000000</td>\n",
       "      <td>0.000000</td>\n",
       "      <td>0.000000</td>\n",
       "      <td>0.000000</td>\n",
       "      <td>0.000000</td>\n",
       "      <td>0.000000</td>\n",
       "      <td>0.000000</td>\n",
       "      <td>0.000000</td>\n",
       "      <td>5.000000</td>\n",
       "    </tr>\n",
       "    <tr>\n",
       "      <th>50%</th>\n",
       "      <td>5.000000</td>\n",
       "      <td>0.000000</td>\n",
       "      <td>0.00000</td>\n",
       "      <td>0.000000</td>\n",
       "      <td>0.000000</td>\n",
       "      <td>0.000000</td>\n",
       "      <td>6.000000</td>\n",
       "      <td>0.000000</td>\n",
       "      <td>0.000000</td>\n",
       "      <td>0.000000</td>\n",
       "      <td>0.000000</td>\n",
       "      <td>0.000000</td>\n",
       "      <td>25.000000</td>\n",
       "    </tr>\n",
       "    <tr>\n",
       "      <th>75%</th>\n",
       "      <td>21.000000</td>\n",
       "      <td>3.000000</td>\n",
       "      <td>1.00000</td>\n",
       "      <td>0.000000</td>\n",
       "      <td>0.000000</td>\n",
       "      <td>0.000000</td>\n",
       "      <td>25.000000</td>\n",
       "      <td>1.000000</td>\n",
       "      <td>0.000000</td>\n",
       "      <td>0.000000</td>\n",
       "      <td>0.000000</td>\n",
       "      <td>25.000000</td>\n",
       "      <td>48.000000</td>\n",
       "    </tr>\n",
       "    <tr>\n",
       "      <th>max</th>\n",
       "      <td>175.000000</td>\n",
       "      <td>30.000000</td>\n",
       "      <td>17.00000</td>\n",
       "      <td>1.000000</td>\n",
       "      <td>1.000000</td>\n",
       "      <td>1.000000</td>\n",
       "      <td>255.000000</td>\n",
       "      <td>6.000000</td>\n",
       "      <td>1.000000</td>\n",
       "      <td>1.000000</td>\n",
       "      <td>2.000000</td>\n",
       "      <td>174.000000</td>\n",
       "      <td>305.000000</td>\n",
       "    </tr>\n",
       "  </tbody>\n",
       "</table>\n",
       "</div>"
      ],
      "text/plain": [
       "               Runs    Boundaries          Six         Fifty       Hundred  \\\n",
       "count  15916.000000  15916.000000  15916.00000  15916.000000  15916.000000   \n",
       "mean      14.029027      1.794546      0.51332      0.070872      0.003895   \n",
       "std       19.932138      2.857668      1.14761      0.256619      0.062294   \n",
       "min        0.000000      0.000000      0.00000      0.000000      0.000000   \n",
       "25%        0.000000      0.000000      0.00000      0.000000      0.000000   \n",
       "50%        5.000000      0.000000      0.00000      0.000000      0.000000   \n",
       "75%       21.000000      3.000000      1.00000      0.000000      0.000000   \n",
       "max      175.000000     30.000000     17.00000      1.000000      1.000000   \n",
       "\n",
       "               Duck  Batting_Points       Wickets       4W_Haul       5W_Haul  \\\n",
       "count  15916.000000    15916.000000  15916.000000  15916.000000  15916.000000   \n",
       "mean       0.057741       17.364036      0.501508      0.007791      0.001257   \n",
       "std        0.233260       26.402587      0.860593      0.087924      0.035427   \n",
       "min        0.000000       -2.000000      0.000000      0.000000      0.000000   \n",
       "25%        0.000000        0.000000      0.000000      0.000000      0.000000   \n",
       "50%        0.000000        6.000000      0.000000      0.000000      0.000000   \n",
       "75%        0.000000       25.000000      1.000000      0.000000      0.000000   \n",
       "max        1.000000      255.000000      6.000000      1.000000      1.000000   \n",
       "\n",
       "            Maidens  Bowling_Points  Total Points  \n",
       "count  15916.000000    15916.000000  15916.000000  \n",
       "mean       0.015142       12.741267     30.105303  \n",
       "std        0.123146       22.079906     30.143498  \n",
       "min        0.000000        0.000000     -2.000000  \n",
       "25%        0.000000        0.000000      5.000000  \n",
       "50%        0.000000        0.000000     25.000000  \n",
       "75%        0.000000       25.000000     48.000000  \n",
       "max        2.000000      174.000000    305.000000  "
      ]
     },
     "execution_count": 4,
     "metadata": {},
     "output_type": "execute_result"
    }
   ],
   "source": [
    "training_data.describe()"
   ]
  },
  {
   "cell_type": "markdown",
   "metadata": {
    "papermill": {
     "duration": 0.027394,
     "end_time": "2021-02-11T12:20:00.307108",
     "exception": false,
     "start_time": "2021-02-11T12:20:00.279714",
     "status": "completed"
    },
    "tags": []
   },
   "source": [
    "**No Missing Values present in the Training DataSet**"
   ]
  },
  {
   "cell_type": "code",
   "execution_count": 5,
   "metadata": {
    "execution": {
     "iopub.execute_input": "2021-02-11T12:20:00.373152Z",
     "iopub.status.busy": "2021-02-11T12:20:00.372181Z",
     "iopub.status.idle": "2021-02-11T12:20:00.377708Z",
     "shell.execute_reply": "2021-02-11T12:20:00.377141Z"
    },
    "papermill": {
     "duration": 0.04332,
     "end_time": "2021-02-11T12:20:00.377858",
     "exception": false,
     "start_time": "2021-02-11T12:20:00.334538",
     "status": "completed"
    },
    "tags": []
   },
   "outputs": [
    {
     "data": {
      "text/plain": [
       "Id                0\n",
       "Runs              0\n",
       "Boundaries        0\n",
       "Six               0\n",
       "Fifty             0\n",
       "Hundred           0\n",
       "Duck              0\n",
       "Batting_Points    0\n",
       "Wickets           0\n",
       "4W_Haul           0\n",
       "5W_Haul           0\n",
       "Maidens           0\n",
       "Bowling_Points    0\n",
       "Total Points      0\n",
       "dtype: int64"
      ]
     },
     "execution_count": 5,
     "metadata": {},
     "output_type": "execute_result"
    }
   ],
   "source": [
    "training_data.isna().sum()"
   ]
  },
  {
   "cell_type": "markdown",
   "metadata": {
    "papermill": {
     "duration": 0.027751,
     "end_time": "2021-02-11T12:20:00.433401",
     "exception": false,
     "start_time": "2021-02-11T12:20:00.405650",
     "status": "completed"
    },
    "tags": []
   },
   "source": [
    "**Dropping the columns that we do not need and adding the Date Column as the Match ID column is not in Chronological order**"
   ]
  },
  {
   "cell_type": "code",
   "execution_count": 6,
   "metadata": {
    "execution": {
     "iopub.execute_input": "2021-02-11T12:20:00.550444Z",
     "iopub.status.busy": "2021-02-11T12:20:00.544853Z",
     "iopub.status.idle": "2021-02-11T12:20:00.616531Z",
     "shell.execute_reply": "2021-02-11T12:20:00.615422Z"
    },
    "papermill": {
     "duration": 0.152043,
     "end_time": "2021-02-11T12:20:00.616716",
     "exception": false,
     "start_time": "2021-02-11T12:20:00.464673",
     "status": "completed"
    },
    "tags": []
   },
   "outputs": [
    {
     "data": {
      "text/html": [
       "<div>\n",
       "<style scoped>\n",
       "    .dataframe tbody tr th:only-of-type {\n",
       "        vertical-align: middle;\n",
       "    }\n",
       "\n",
       "    .dataframe tbody tr th {\n",
       "        vertical-align: top;\n",
       "    }\n",
       "\n",
       "    .dataframe thead th {\n",
       "        text-align: right;\n",
       "    }\n",
       "</style>\n",
       "<table border=\"1\" class=\"dataframe\">\n",
       "  <thead>\n",
       "    <tr style=\"text-align: right;\">\n",
       "      <th></th>\n",
       "      <th>player</th>\n",
       "      <th>date</th>\n",
       "      <th>Total Points</th>\n",
       "      <th>match_id</th>\n",
       "    </tr>\n",
       "  </thead>\n",
       "  <tbody>\n",
       "    <tr>\n",
       "      <th>0</th>\n",
       "      <td>A Ashish Reddy</td>\n",
       "      <td>2012-01-05</td>\n",
       "      <td>25</td>\n",
       "      <td>348</td>\n",
       "    </tr>\n",
       "    <tr>\n",
       "      <th>1</th>\n",
       "      <td>A Ashish Reddy</td>\n",
       "      <td>2012-04-05</td>\n",
       "      <td>28</td>\n",
       "      <td>352</td>\n",
       "    </tr>\n",
       "    <tr>\n",
       "      <th>2</th>\n",
       "      <td>A Ashish Reddy</td>\n",
       "      <td>2012-04-26</td>\n",
       "      <td>50</td>\n",
       "      <td>341</td>\n",
       "    </tr>\n",
       "    <tr>\n",
       "      <th>3</th>\n",
       "      <td>A Ashish Reddy</td>\n",
       "      <td>2012-04-29</td>\n",
       "      <td>38</td>\n",
       "      <td>346</td>\n",
       "    </tr>\n",
       "    <tr>\n",
       "      <th>4</th>\n",
       "      <td>A Ashish Reddy</td>\n",
       "      <td>2012-05-18</td>\n",
       "      <td>12</td>\n",
       "      <td>373</td>\n",
       "    </tr>\n",
       "    <tr>\n",
       "      <th>...</th>\n",
       "      <td>...</td>\n",
       "      <td>...</td>\n",
       "      <td>...</td>\n",
       "      <td>...</td>\n",
       "    </tr>\n",
       "    <tr>\n",
       "      <th>15911</th>\n",
       "      <td>Z Khan</td>\n",
       "      <td>2017-06-05</td>\n",
       "      <td>2</td>\n",
       "      <td>44</td>\n",
       "    </tr>\n",
       "    <tr>\n",
       "      <th>15912</th>\n",
       "      <td>Z Khan</td>\n",
       "      <td>2017-08-04</td>\n",
       "      <td>51</td>\n",
       "      <td>5</td>\n",
       "    </tr>\n",
       "    <tr>\n",
       "      <th>15913</th>\n",
       "      <td>Z Khan</td>\n",
       "      <td>2017-10-05</td>\n",
       "      <td>0</td>\n",
       "      <td>49</td>\n",
       "    </tr>\n",
       "    <tr>\n",
       "      <th>15914</th>\n",
       "      <td>Z Khan</td>\n",
       "      <td>2017-11-04</td>\n",
       "      <td>75</td>\n",
       "      <td>9</td>\n",
       "    </tr>\n",
       "    <tr>\n",
       "      <th>15915</th>\n",
       "      <td>Z Khan</td>\n",
       "      <td>2017-12-05</td>\n",
       "      <td>50</td>\n",
       "      <td>51</td>\n",
       "    </tr>\n",
       "  </tbody>\n",
       "</table>\n",
       "<p>15916 rows × 4 columns</p>\n",
       "</div>"
      ],
      "text/plain": [
       "               player       date  Total Points  match_id\n",
       "0      A Ashish Reddy 2012-01-05            25       348\n",
       "1      A Ashish Reddy 2012-04-05            28       352\n",
       "2      A Ashish Reddy 2012-04-26            50       341\n",
       "3      A Ashish Reddy 2012-04-29            38       346\n",
       "4      A Ashish Reddy 2012-05-18            12       373\n",
       "...               ...        ...           ...       ...\n",
       "15911          Z Khan 2017-06-05             2        44\n",
       "15912          Z Khan 2017-08-04            51         5\n",
       "15913          Z Khan 2017-10-05             0        49\n",
       "15914          Z Khan 2017-11-04            75         9\n",
       "15915          Z Khan 2017-12-05            50        51\n",
       "\n",
       "[15916 rows x 4 columns]"
      ]
     },
     "execution_count": 6,
     "metadata": {},
     "output_type": "execute_result"
    }
   ],
   "source": [
    "training_data[\"match_id\"] = training_data[\"Id\"].apply(lambda x: int(x.split(\"_\")[0]))\n",
    "training_data[\"player\"] = training_data[\"Id\"].apply(lambda x: x.split(\"_\")[1])\n",
    "training_data_date[\"date\"] = pd.to_datetime(training_data_date[\"date\"])\n",
    "training_data.drop(training_data.iloc[:,1:13],axis=1,inplace=True)\n",
    "training_data = training_data.merge(training_data_date.iloc[:,[0,3]],on = \"match_id\", how = \"inner\")\n",
    "training_data_new = training_data.groupby([\"player\",\"date\"],axis = 0, as_index= False).sum()\n",
    "training_data_new"
   ]
  },
  {
   "cell_type": "markdown",
   "metadata": {
    "papermill": {
     "duration": 0.029611,
     "end_time": "2021-02-11T12:20:00.676130",
     "exception": false,
     "start_time": "2021-02-11T12:20:00.646519",
     "status": "completed"
    },
    "tags": []
   },
   "source": [
    "**Importing the required Libraries.**"
   ]
  },
  {
   "cell_type": "code",
   "execution_count": 7,
   "metadata": {
    "execution": {
     "iopub.execute_input": "2021-02-11T12:20:00.742583Z",
     "iopub.status.busy": "2021-02-11T12:20:00.741729Z",
     "iopub.status.idle": "2021-02-11T12:20:02.598346Z",
     "shell.execute_reply": "2021-02-11T12:20:02.597162Z"
    },
    "papermill": {
     "duration": 1.892214,
     "end_time": "2021-02-11T12:20:02.598617",
     "exception": false,
     "start_time": "2021-02-11T12:20:00.706403",
     "status": "completed"
    },
    "tags": []
   },
   "outputs": [],
   "source": [
    "from sklearn.model_selection import train_test_split\n",
    "from sklearn.linear_model import LinearRegression\n",
    "from sklearn.metrics import mean_squared_error\n",
    "from sklearn import metrics\n",
    "from sklearn.ensemble import RandomForestRegressor\n",
    "import xgboost\n",
    "from sklearn.svm import SVR\n",
    "from sklearn.ensemble import StackingRegressor"
   ]
  },
  {
   "cell_type": "markdown",
   "metadata": {
    "papermill": {
     "duration": 0.031136,
     "end_time": "2021-02-11T12:20:02.664549",
     "exception": false,
     "start_time": "2021-02-11T12:20:02.633413",
     "status": "completed"
    },
    "tags": []
   },
   "source": [
    "**Picking a single player to predict what will be their last 20 matches performance will be based on their previous matches. For that we going to make supervised data for the model. We know that players form can be known from last couple of matches. Here, I take last 3 matches played by Suresh Raina as the features and 4th match as the response variable.**"
   ]
  },
  {
   "cell_type": "code",
   "execution_count": 8,
   "metadata": {
    "execution": {
     "iopub.execute_input": "2021-02-11T12:20:02.735647Z",
     "iopub.status.busy": "2021-02-11T12:20:02.731947Z",
     "iopub.status.idle": "2021-02-11T12:20:02.779475Z",
     "shell.execute_reply": "2021-02-11T12:20:02.779966Z"
    },
    "papermill": {
     "duration": 0.086864,
     "end_time": "2021-02-11T12:20:02.780161",
     "exception": false,
     "start_time": "2021-02-11T12:20:02.693297",
     "status": "completed"
    },
    "tags": []
   },
   "outputs": [
    {
     "data": {
      "text/html": [
       "<div>\n",
       "<style scoped>\n",
       "    .dataframe tbody tr th:only-of-type {\n",
       "        vertical-align: middle;\n",
       "    }\n",
       "\n",
       "    .dataframe tbody tr th {\n",
       "        vertical-align: top;\n",
       "    }\n",
       "\n",
       "    .dataframe thead th {\n",
       "        text-align: right;\n",
       "    }\n",
       "</style>\n",
       "<table border=\"1\" class=\"dataframe\">\n",
       "  <thead>\n",
       "    <tr style=\"text-align: right;\">\n",
       "      <th></th>\n",
       "      <th>feature_1</th>\n",
       "      <th>feature_2</th>\n",
       "      <th>feature_3</th>\n",
       "      <th>response</th>\n",
       "    </tr>\n",
       "  </thead>\n",
       "  <tbody>\n",
       "    <tr>\n",
       "      <th>0</th>\n",
       "      <td>50.0</td>\n",
       "      <td>3.0</td>\n",
       "      <td>29.0</td>\n",
       "      <td>43</td>\n",
       "    </tr>\n",
       "    <tr>\n",
       "      <th>1</th>\n",
       "      <td>3.0</td>\n",
       "      <td>29.0</td>\n",
       "      <td>43.0</td>\n",
       "      <td>73</td>\n",
       "    </tr>\n",
       "    <tr>\n",
       "      <th>2</th>\n",
       "      <td>29.0</td>\n",
       "      <td>43.0</td>\n",
       "      <td>73.0</td>\n",
       "      <td>35</td>\n",
       "    </tr>\n",
       "    <tr>\n",
       "      <th>3</th>\n",
       "      <td>43.0</td>\n",
       "      <td>73.0</td>\n",
       "      <td>35.0</td>\n",
       "      <td>1</td>\n",
       "    </tr>\n",
       "    <tr>\n",
       "      <th>4</th>\n",
       "      <td>73.0</td>\n",
       "      <td>35.0</td>\n",
       "      <td>1.0</td>\n",
       "      <td>23</td>\n",
       "    </tr>\n",
       "    <tr>\n",
       "      <th>...</th>\n",
       "      <td>...</td>\n",
       "      <td>...</td>\n",
       "      <td>...</td>\n",
       "      <td>...</td>\n",
       "    </tr>\n",
       "    <tr>\n",
       "      <th>181</th>\n",
       "      <td>2.0</td>\n",
       "      <td>72.0</td>\n",
       "      <td>19.0</td>\n",
       "      <td>7</td>\n",
       "    </tr>\n",
       "    <tr>\n",
       "      <th>182</th>\n",
       "      <td>72.0</td>\n",
       "      <td>19.0</td>\n",
       "      <td>7.0</td>\n",
       "      <td>19</td>\n",
       "    </tr>\n",
       "    <tr>\n",
       "      <th>183</th>\n",
       "      <td>19.0</td>\n",
       "      <td>7.0</td>\n",
       "      <td>19.0</td>\n",
       "      <td>11</td>\n",
       "    </tr>\n",
       "    <tr>\n",
       "      <th>184</th>\n",
       "      <td>7.0</td>\n",
       "      <td>19.0</td>\n",
       "      <td>11.0</td>\n",
       "      <td>5</td>\n",
       "    </tr>\n",
       "    <tr>\n",
       "      <th>185</th>\n",
       "      <td>19.0</td>\n",
       "      <td>11.0</td>\n",
       "      <td>5.0</td>\n",
       "      <td>9</td>\n",
       "    </tr>\n",
       "  </tbody>\n",
       "</table>\n",
       "<p>186 rows × 4 columns</p>\n",
       "</div>"
      ],
      "text/plain": [
       "     feature_1  feature_2  feature_3  response\n",
       "0         50.0        3.0       29.0        43\n",
       "1          3.0       29.0       43.0        73\n",
       "2         29.0       43.0       73.0        35\n",
       "3         43.0       73.0       35.0         1\n",
       "4         73.0       35.0        1.0        23\n",
       "..         ...        ...        ...       ...\n",
       "181        2.0       72.0       19.0         7\n",
       "182       72.0       19.0        7.0        19\n",
       "183       19.0        7.0       19.0        11\n",
       "184        7.0       19.0       11.0         5\n",
       "185       19.0       11.0        5.0         9\n",
       "\n",
       "[186 rows x 4 columns]"
      ]
     },
     "execution_count": 8,
     "metadata": {},
     "output_type": "execute_result"
    }
   ],
   "source": [
    "name = [\"SK Raina\"]\n",
    "player_wise_data = pd.DataFrame()\n",
    "player_wise_data[\"player\"] = name\n",
    "player_wise_data = player_wise_data.merge(training_data_new,on = \"player\", how = \"inner\")\n",
    "#if player_wise_data.count()[0] >= 15:\n",
    "player_wise_data_features = pd.DataFrame()\n",
    "player_wise_data_features[\"feature_1\"] = player_wise_data[\"Total Points\"].shift(3)\n",
    "player_wise_data_features[\"feature_2\"] = player_wise_data[\"Total Points\"].shift(2)\n",
    "player_wise_data_features[\"feature_3\"] = player_wise_data[\"Total Points\"].shift(1)\n",
    "player_wise_data_features[\"response\"] =  player_wise_data[\"Total Points\"]\n",
    "player_wise_data_features = player_wise_data_features.dropna()\n",
    "player_wise_data_features = player_wise_data_features.reset_index(drop= True)\n",
    "player_wise_data_features"
   ]
  },
  {
   "cell_type": "markdown",
   "metadata": {
    "papermill": {
     "duration": 0.029175,
     "end_time": "2021-02-11T12:20:02.839317",
     "exception": false,
     "start_time": "2021-02-11T12:20:02.810142",
     "status": "completed"
    },
    "tags": []
   },
   "source": [
    "**Starting with Linear Regression**"
   ]
  },
  {
   "cell_type": "code",
   "execution_count": 9,
   "metadata": {
    "execution": {
     "iopub.execute_input": "2021-02-11T12:20:02.902847Z",
     "iopub.status.busy": "2021-02-11T12:20:02.901939Z",
     "iopub.status.idle": "2021-02-11T12:20:02.935097Z",
     "shell.execute_reply": "2021-02-11T12:20:02.934415Z"
    },
    "papermill": {
     "duration": 0.065972,
     "end_time": "2021-02-11T12:20:02.935293",
     "exception": false,
     "start_time": "2021-02-11T12:20:02.869321",
     "status": "completed"
    },
    "tags": []
   },
   "outputs": [
    {
     "name": "stdout",
     "output_type": "stream",
     "text": [
      "RMSE: 28.650604581005666\n"
     ]
    }
   ],
   "source": [
    "model1 = LinearRegression().fit(player_wise_data_features.iloc[0:165,0:3],player_wise_data_features.iloc[0:165,3])\n",
    "y_hat1 = model1.predict(player_wise_data_features.iloc[165:,0:3]).astype(int)\n",
    "print('RMSE:',np.sqrt(metrics.mean_squared_error(player_wise_data_features.iloc[165:,3],y_hat1)))"
   ]
  },
  {
   "cell_type": "markdown",
   "metadata": {
    "papermill": {
     "duration": 0.031092,
     "end_time": "2021-02-11T12:20:02.997852",
     "exception": false,
     "start_time": "2021-02-11T12:20:02.966760",
     "status": "completed"
    },
    "tags": []
   },
   "source": [
    "**Random Forest**"
   ]
  },
  {
   "cell_type": "code",
   "execution_count": 10,
   "metadata": {
    "execution": {
     "iopub.execute_input": "2021-02-11T12:20:03.103304Z",
     "iopub.status.busy": "2021-02-11T12:20:03.087801Z",
     "iopub.status.idle": "2021-02-11T12:20:03.283633Z",
     "shell.execute_reply": "2021-02-11T12:20:03.284253Z"
    },
    "papermill": {
     "duration": 0.254946,
     "end_time": "2021-02-11T12:20:03.284470",
     "exception": false,
     "start_time": "2021-02-11T12:20:03.029524",
     "status": "completed"
    },
    "tags": []
   },
   "outputs": [
    {
     "name": "stdout",
     "output_type": "stream",
     "text": [
      "RMSE: 30.592560564698765\n"
     ]
    }
   ],
   "source": [
    "model2 = RandomForestRegressor().fit(player_wise_data_features.iloc[0:165,0:3],player_wise_data_features.iloc[0:165,3])\n",
    "y_hat2 = model2.predict(player_wise_data_features.iloc[165:,0:3]).astype(int)\n",
    "print('RMSE:',np.sqrt(metrics.mean_squared_error(player_wise_data_features.iloc[165:,3],y_hat2)))"
   ]
  },
  {
   "cell_type": "markdown",
   "metadata": {
    "papermill": {
     "duration": 0.033671,
     "end_time": "2021-02-11T12:20:03.349395",
     "exception": false,
     "start_time": "2021-02-11T12:20:03.315724",
     "status": "completed"
    },
    "tags": []
   },
   "source": [
    "**XGBoost**"
   ]
  },
  {
   "cell_type": "code",
   "execution_count": 11,
   "metadata": {
    "execution": {
     "iopub.execute_input": "2021-02-11T12:20:03.422879Z",
     "iopub.status.busy": "2021-02-11T12:20:03.422144Z",
     "iopub.status.idle": "2021-02-11T12:20:03.519111Z",
     "shell.execute_reply": "2021-02-11T12:20:03.519722Z"
    },
    "papermill": {
     "duration": 0.137438,
     "end_time": "2021-02-11T12:20:03.519999",
     "exception": false,
     "start_time": "2021-02-11T12:20:03.382561",
     "status": "completed"
    },
    "tags": []
   },
   "outputs": [
    {
     "name": "stdout",
     "output_type": "stream",
     "text": [
      "RMSE: 35.20822414747793\n"
     ]
    }
   ],
   "source": [
    "model3 = xgboost.XGBRegressor().fit(player_wise_data_features.iloc[0:165,0:3],player_wise_data_features.iloc[0:165,3])\n",
    "y_hat3 = model3.predict(player_wise_data_features.iloc[165:,0:3]).astype(int)\n",
    "print('RMSE:',np.sqrt(metrics.mean_squared_error(player_wise_data_features.iloc[165:,3],y_hat3)))"
   ]
  },
  {
   "cell_type": "markdown",
   "metadata": {
    "papermill": {
     "duration": 0.032423,
     "end_time": "2021-02-11T12:20:03.585902",
     "exception": false,
     "start_time": "2021-02-11T12:20:03.553479",
     "status": "completed"
    },
    "tags": []
   },
   "source": [
    "**Support Vector Regressor**"
   ]
  },
  {
   "cell_type": "code",
   "execution_count": 12,
   "metadata": {
    "execution": {
     "iopub.execute_input": "2021-02-11T12:20:03.661837Z",
     "iopub.status.busy": "2021-02-11T12:20:03.661063Z",
     "iopub.status.idle": "2021-02-11T12:20:03.672434Z",
     "shell.execute_reply": "2021-02-11T12:20:03.672986Z"
    },
    "papermill": {
     "duration": 0.05507,
     "end_time": "2021-02-11T12:20:03.673202",
     "exception": false,
     "start_time": "2021-02-11T12:20:03.618132",
     "status": "completed"
    },
    "tags": []
   },
   "outputs": [
    {
     "name": "stdout",
     "output_type": "stream",
     "text": [
      "RMSE: 26.25878537792275\n"
     ]
    }
   ],
   "source": [
    "model4 = SVR().fit(player_wise_data_features.iloc[0:165,0:3],player_wise_data_features.iloc[0:165,3])\n",
    "y_hat4 = model4.predict(player_wise_data_features.iloc[165:,0:3]).astype(int)\n",
    "print('RMSE:',np.sqrt(metrics.mean_squared_error(player_wise_data_features.iloc[165:,3],y_hat4)))"
   ]
  },
  {
   "cell_type": "markdown",
   "metadata": {
    "papermill": {
     "duration": 0.031835,
     "end_time": "2021-02-11T12:20:03.737591",
     "exception": false,
     "start_time": "2021-02-11T12:20:03.705756",
     "status": "completed"
    },
    "tags": []
   },
   "source": [
    "**Stacking Ensemble**"
   ]
  },
  {
   "cell_type": "markdown",
   "metadata": {
    "tags": [
     "papermill-error-cell-tag"
    ]
   },
   "source": [
    "<span id=\"papermill-error-cell\" style=\"color:red; font-family:Helvetica Neue, Helvetica, Arial, sans-serif; font-size:2em;\">Execution using papermill encountered an exception here and stopped:</span>"
   ]
  },
  {
   "cell_type": "code",
   "execution_count": 13,
   "metadata": {
    "execution": {
     "iopub.execute_input": "2021-02-11T12:20:03.805519Z",
     "iopub.status.busy": "2021-02-11T12:20:03.804924Z",
     "iopub.status.idle": "2021-02-11T12:20:03.886315Z",
     "shell.execute_reply": "2021-02-11T12:20:03.886890Z"
    },
    "papermill": {
     "duration": 0.117433,
     "end_time": "2021-02-11T12:20:03.887112",
     "exception": false,
     "start_time": "2021-02-11T12:20:03.769679",
     "status": "completed"
    },
    "tags": []
   },
   "outputs": [
    {
     "ename": "NameError",
     "evalue": "name 'get_stacking' is not defined",
     "output_type": "error",
     "traceback": [
      "\u001b[0;31m---------------------------------------------------------------------------\u001b[0m",
      "\u001b[0;31mNameError\u001b[0m                                 Traceback (most recent call last)",
      "\u001b[0;32m<ipython-input-13-e023290bc4d9>\u001b[0m in \u001b[0;36m<module>\u001b[0;34m\u001b[0m\n\u001b[0;32m----> 1\u001b[0;31m \u001b[0mmodel5\u001b[0m \u001b[0;34m=\u001b[0m \u001b[0mget_stacking\u001b[0m\u001b[0;34m(\u001b[0m\u001b[0;34m)\u001b[0m\u001b[0;34m.\u001b[0m\u001b[0mfit\u001b[0m\u001b[0;34m(\u001b[0m\u001b[0mplayer_wise_data_features\u001b[0m\u001b[0;34m.\u001b[0m\u001b[0miloc\u001b[0m\u001b[0;34m[\u001b[0m\u001b[0;36m0\u001b[0m\u001b[0;34m:\u001b[0m\u001b[0;36m165\u001b[0m\u001b[0;34m,\u001b[0m\u001b[0;36m0\u001b[0m\u001b[0;34m:\u001b[0m\u001b[0;36m3\u001b[0m\u001b[0;34m]\u001b[0m\u001b[0;34m,\u001b[0m\u001b[0mplayer_wise_data_features\u001b[0m\u001b[0;34m.\u001b[0m\u001b[0miloc\u001b[0m\u001b[0;34m[\u001b[0m\u001b[0;36m0\u001b[0m\u001b[0;34m:\u001b[0m\u001b[0;36m165\u001b[0m\u001b[0;34m,\u001b[0m\u001b[0;36m3\u001b[0m\u001b[0;34m]\u001b[0m\u001b[0;34m)\u001b[0m\u001b[0;34m\u001b[0m\u001b[0;34m\u001b[0m\u001b[0m\n\u001b[0m\u001b[1;32m      2\u001b[0m \u001b[0my_hat5\u001b[0m \u001b[0;34m=\u001b[0m \u001b[0mmodel5\u001b[0m\u001b[0;34m.\u001b[0m\u001b[0mpredict\u001b[0m\u001b[0;34m(\u001b[0m\u001b[0mplayer_wise_data_features\u001b[0m\u001b[0;34m.\u001b[0m\u001b[0miloc\u001b[0m\u001b[0;34m[\u001b[0m\u001b[0;36m165\u001b[0m\u001b[0;34m:\u001b[0m\u001b[0;34m,\u001b[0m\u001b[0;36m0\u001b[0m\u001b[0;34m:\u001b[0m\u001b[0;36m3\u001b[0m\u001b[0;34m]\u001b[0m\u001b[0;34m)\u001b[0m\u001b[0;34m.\u001b[0m\u001b[0mastype\u001b[0m\u001b[0;34m(\u001b[0m\u001b[0mint\u001b[0m\u001b[0;34m)\u001b[0m\u001b[0;34m\u001b[0m\u001b[0;34m\u001b[0m\u001b[0m\n\u001b[1;32m      3\u001b[0m \u001b[0mprint\u001b[0m\u001b[0;34m(\u001b[0m\u001b[0;34m'RMSE:'\u001b[0m\u001b[0;34m,\u001b[0m\u001b[0mnp\u001b[0m\u001b[0;34m.\u001b[0m\u001b[0msqrt\u001b[0m\u001b[0;34m(\u001b[0m\u001b[0mmetrics\u001b[0m\u001b[0;34m.\u001b[0m\u001b[0mmean_squared_error\u001b[0m\u001b[0;34m(\u001b[0m\u001b[0mplayer_wise_data_features\u001b[0m\u001b[0;34m.\u001b[0m\u001b[0miloc\u001b[0m\u001b[0;34m[\u001b[0m\u001b[0;36m165\u001b[0m\u001b[0;34m:\u001b[0m\u001b[0;34m,\u001b[0m\u001b[0;36m3\u001b[0m\u001b[0;34m]\u001b[0m\u001b[0;34m,\u001b[0m\u001b[0my_hat5\u001b[0m\u001b[0;34m)\u001b[0m\u001b[0;34m)\u001b[0m\u001b[0;34m)\u001b[0m\u001b[0;34m\u001b[0m\u001b[0;34m\u001b[0m\u001b[0m\n",
      "\u001b[0;31mNameError\u001b[0m: name 'get_stacking' is not defined"
     ]
    }
   ],
   "source": [
    "model5 = get_stacking().fit(player_wise_data_features.iloc[0:165,0:3],player_wise_data_features.iloc[0:165,3])\n",
    "y_hat5 = model5.predict(player_wise_data_features.iloc[165:,0:3]).astype(int)\n",
    "print('RMSE:',np.sqrt(metrics.mean_squared_error(player_wise_data_features.iloc[165:,3],y_hat5)))"
   ]
  },
  {
   "cell_type": "markdown",
   "metadata": {
    "papermill": {
     "duration": 0.031758,
     "end_time": "2021-02-11T12:20:03.951843",
     "exception": false,
     "start_time": "2021-02-11T12:20:03.920085",
     "status": "completed"
    },
    "tags": []
   },
   "source": [
    "**Lasso**"
   ]
  },
  {
   "cell_type": "code",
   "execution_count": 14,
   "metadata": {
    "execution": {
     "iopub.execute_input": "2021-02-11T12:20:04.019838Z",
     "iopub.status.busy": "2021-02-11T12:20:04.019206Z",
     "iopub.status.idle": "2021-02-11T12:20:04.038140Z",
     "shell.execute_reply": "2021-02-11T12:20:04.037413Z"
    },
    "papermill": {
     "duration": 0.054421,
     "end_time": "2021-02-11T12:20:04.038296",
     "exception": false,
     "start_time": "2021-02-11T12:20:03.983875",
     "status": "completed"
    },
    "tags": []
   },
   "outputs": [
    {
     "name": "stdout",
     "output_type": "stream",
     "text": [
      "RMSE: 28.650604581005666\n"
     ]
    }
   ],
   "source": [
    "from sklearn.linear_model import Lasso\n",
    "model6 = Lasso(alpha=0.05).fit(player_wise_data_features.iloc[0:165,0:3],player_wise_data_features.iloc[0:165,3])\n",
    "y_hat6 = model6.predict(player_wise_data_features.iloc[165:,0:3]).astype(int) \n",
    "print('RMSE:',np.sqrt(metrics.mean_squared_error(player_wise_data_features.iloc[165:,3],y_hat6)))"
   ]
  },
  {
   "cell_type": "markdown",
   "metadata": {
    "papermill": {
     "duration": 0.032713,
     "end_time": "2021-02-11T12:20:04.103950",
     "exception": false,
     "start_time": "2021-02-11T12:20:04.071237",
     "status": "completed"
    },
    "tags": []
   },
   "source": [
    "**After performing well with single player now I will now predict the last match played by every player. As there is no data for the new players, I would simply take the average of the last few matches played by the new players and assigning 0 to the debutants.**"
   ]
  },
  {
   "cell_type": "code",
   "execution_count": 15,
   "metadata": {
    "execution": {
     "iopub.execute_input": "2021-02-11T12:20:04.176404Z",
     "iopub.status.busy": "2021-02-11T12:20:04.175609Z",
     "iopub.status.idle": "2021-02-11T12:20:04.177901Z",
     "shell.execute_reply": "2021-02-11T12:20:04.178429Z"
    },
    "papermill": {
     "duration": 0.041985,
     "end_time": "2021-02-11T12:20:04.178599",
     "exception": false,
     "start_time": "2021-02-11T12:20:04.136614",
     "status": "completed"
    },
    "tags": []
   },
   "outputs": [],
   "source": [
    "def get_stacking():\n",
    "    # define the base models\n",
    "    level0 = list()\n",
    "    level0.append(('XGB', xgboost.XGBRegressor()))\n",
    "    level0.append(('RF', RandomForestRegressor()))\n",
    "    level0.append(('svr', SVR()))\n",
    "    level0.append(('lasso', Lasso(alpha=0.05)))\n",
    "    # define meta learner model\n",
    "    level1 = LinearRegression()\n",
    "    # define the stacking ensemble\n",
    "    s_model = StackingRegressor(estimators=level0, final_estimator=level1, cv=5)\n",
    "    return s_model"
   ]
  },
  {
   "cell_type": "code",
   "execution_count": 16,
   "metadata": {
    "execution": {
     "iopub.execute_input": "2021-02-11T12:20:04.249386Z",
     "iopub.status.busy": "2021-02-11T12:20:04.248692Z",
     "iopub.status.idle": "2021-02-11T12:20:04.265012Z",
     "shell.execute_reply": "2021-02-11T12:20:04.265506Z"
    },
    "papermill": {
     "duration": 0.053193,
     "end_time": "2021-02-11T12:20:04.265696",
     "exception": false,
     "start_time": "2021-02-11T12:20:04.212503",
     "status": "completed"
    },
    "tags": []
   },
   "outputs": [],
   "source": [
    "def future_values(name,model_num):\n",
    "    name = [name]\n",
    "    player_wise_data = pd.DataFrame()\n",
    "    player_wise_data[\"player\"] = name\n",
    "    player_wise_data = player_wise_data.merge(training_data_new,on = \"player\", how = \"inner\")\n",
    "    if player_wise_data.count()[0] > 15:\n",
    "        player_wise_data_features = pd.DataFrame()\n",
    "        player_wise_data_features[\"feature_1\"] = player_wise_data[\"Total Points\"].shift(3)\n",
    "        player_wise_data_features[\"feature_2\"] = player_wise_data[\"Total Points\"].shift(2)\n",
    "        player_wise_data_features[\"feature_3\"] = player_wise_data[\"Total Points\"].shift(1)\n",
    "        player_wise_data_features[\"response\"] =  player_wise_data[\"Total Points\"]\n",
    "        player_wise_data_features = player_wise_data_features.dropna()\n",
    "        player_wise_data_features = player_wise_data_features.reset_index(drop= True)\n",
    "        if model_num == 1:\n",
    "            model = LinearRegression().fit(player_wise_data_features.iloc[0:player_wise_data_features.shape[0]-1,0:3],player_wise_data_features.iloc[0:player_wise_data_features.shape[0]-1,3])\n",
    "        elif model_num == 2:\n",
    "            model = RandomForestRegressor().fit(player_wise_data_features.iloc[0:player_wise_data_features.shape[0]-1,0:3],player_wise_data_features.iloc[0:player_wise_data_features.shape[0]-1,3])\n",
    "        elif model_num == 3:\n",
    "            model = SVR().fit(player_wise_data_features.iloc[0:player_wise_data_features.shape[0]-1,0:3],player_wise_data_features.iloc[0:player_wise_data_features.shape[0]-1,3])\n",
    "        elif model_num == 4:\n",
    "            model = xgboost.XGBRegressor().fit(player_wise_data_features.iloc[0:player_wise_data_features.shape[0]-1,0:3],player_wise_data_features.iloc[0:player_wise_data_features.shape[0]-1,3])\n",
    "        elif model_num == 5:\n",
    "            model = Lasso(alpha=0.05).fit(player_wise_data_features.iloc[0:player_wise_data_features.shape[0]-1,0:3],player_wise_data_features.iloc[0:player_wise_data_features.shape[0]-1,3])\n",
    "        else:\n",
    "            model = get_stacking().fit(player_wise_data_features.iloc[0:player_wise_data_features.shape[0]-1,0:3],player_wise_data_features.iloc[0:player_wise_data_features.shape[0]-1,3])\n",
    "        y_hat = model.predict(player_wise_data_features.iloc[player_wise_data_features.shape[0]-1:,0:3]).astype(int)\n",
    "    else:\n",
    "        y_hat = player_wise_data[\"Total Points\"].mean()\n",
    "    if y_hat < -2:\n",
    "        y_hat = -2\n",
    "    return y_hat"
   ]
  },
  {
   "cell_type": "code",
   "execution_count": 17,
   "metadata": {
    "execution": {
     "iopub.execute_input": "2021-02-11T12:20:04.335417Z",
     "iopub.status.busy": "2021-02-11T12:20:04.334647Z",
     "iopub.status.idle": "2021-02-11T12:20:04.341252Z",
     "shell.execute_reply": "2021-02-11T12:20:04.341721Z"
    },
    "papermill": {
     "duration": 0.043352,
     "end_time": "2021-02-11T12:20:04.341933",
     "exception": false,
     "start_time": "2021-02-11T12:20:04.298581",
     "status": "completed"
    },
    "tags": []
   },
   "outputs": [],
   "source": [
    "def model_selection(model_num):\n",
    "    response_fun = pd.DataFrame(columns = [\"y_pred\",\"y_test\"])\n",
    "    response_fun[\"player\"] = training_data_new[\"player\"].value_counts().index\n",
    "    response_fun.set_index(\"player\",inplace = True)\n",
    "    for name in response_fun.index:\n",
    "        response_fun.loc[name].y_pred = int(future_values(name,model_num))\n",
    "        response_fun.loc[name].y_test = int(training_data_new[\"Total Points\"][training_data_new[\"player\"] == name].iloc[-1:])\n",
    "    return response_fun    "
   ]
  },
  {
   "cell_type": "markdown",
   "metadata": {
    "papermill": {
     "duration": 0.032879,
     "end_time": "2021-02-11T12:20:04.408175",
     "exception": false,
     "start_time": "2021-02-11T12:20:04.375296",
     "status": "completed"
    },
    "tags": []
   },
   "source": [
    "# Comparing predicted data and test data"
   ]
  },
  {
   "cell_type": "markdown",
   "metadata": {
    "papermill": {
     "duration": 0.033435,
     "end_time": "2021-02-11T12:20:04.475007",
     "exception": false,
     "start_time": "2021-02-11T12:20:04.441572",
     "status": "completed"
    },
    "tags": []
   },
   "source": [
    "**We could perform the analysis for the players who have played more than 15 matches as new players doesn't have a lot of data.\n",
    "If we use all data (including new players) then RMSE will be less as there are more than 50 players with only playing single match**"
   ]
  },
  {
   "cell_type": "code",
   "execution_count": 18,
   "metadata": {
    "execution": {
     "iopub.execute_input": "2021-02-11T12:20:04.556595Z",
     "iopub.status.busy": "2021-02-11T12:20:04.544759Z",
     "iopub.status.idle": "2021-02-11T12:20:13.116022Z",
     "shell.execute_reply": "2021-02-11T12:20:13.114836Z"
    },
    "papermill": {
     "duration": 8.608166,
     "end_time": "2021-02-11T12:20:13.116267",
     "exception": false,
     "start_time": "2021-02-11T12:20:04.508101",
     "status": "completed"
    },
    "tags": []
   },
   "outputs": [
    {
     "name": "stdout",
     "output_type": "stream",
     "text": [
      "RMSE using Support Vector Regressor :  25.840572320782925\n"
     ]
    }
   ],
   "source": [
    "#Using Support Vector Regressor\n",
    "response = model_selection(model_num=3)\n",
    "print(\"RMSE using Support Vector Regressor : \",np.sqrt(metrics.mean_squared_error(response.y_pred[0:253],response.y_test[0:253])))"
   ]
  },
  {
   "cell_type": "code",
   "execution_count": 19,
   "metadata": {
    "execution": {
     "iopub.execute_input": "2021-02-11T12:20:13.202466Z",
     "iopub.status.busy": "2021-02-11T12:20:13.198805Z",
     "iopub.status.idle": "2021-02-11T12:20:34.903311Z",
     "shell.execute_reply": "2021-02-11T12:20:34.903871Z"
    },
    "papermill": {
     "duration": 21.751858,
     "end_time": "2021-02-11T12:20:34.904101",
     "exception": false,
     "start_time": "2021-02-11T12:20:13.152243",
     "status": "completed"
    },
    "tags": []
   },
   "outputs": [
    {
     "name": "stdout",
     "output_type": "stream",
     "text": [
      "RMSE using XGBoost :  31.528204325400292\n"
     ]
    }
   ],
   "source": [
    "#Using XGBoost\n",
    "response = model_selection(model_num=4)\n",
    "print(\"RMSE using XGBoost : \",np.sqrt(metrics.mean_squared_error(response.y_pred[0:253],response.y_test[0:253])))"
   ]
  },
  {
   "cell_type": "code",
   "execution_count": 20,
   "metadata": {
    "execution": {
     "iopub.execute_input": "2021-02-11T12:20:34.978430Z",
     "iopub.status.busy": "2021-02-11T12:20:34.977722Z",
     "iopub.status.idle": "2021-02-11T12:21:28.066509Z",
     "shell.execute_reply": "2021-02-11T12:21:28.067044Z"
    },
    "papermill": {
     "duration": 53.12783,
     "end_time": "2021-02-11T12:21:28.067224",
     "exception": false,
     "start_time": "2021-02-11T12:20:34.939394",
     "status": "completed"
    },
    "tags": []
   },
   "outputs": [
    {
     "name": "stdout",
     "output_type": "stream",
     "text": [
      "RMSE using RandomForest :  28.492492596951777\n"
     ]
    }
   ],
   "source": [
    "#Using RandomForest\n",
    "response = model_selection(model_num=2)\n",
    "print(\"RMSE using RandomForest : \",np.sqrt(metrics.mean_squared_error(response.y_pred[0:253],response.y_test[0:253])))"
   ]
  },
  {
   "cell_type": "code",
   "execution_count": 21,
   "metadata": {
    "execution": {
     "iopub.execute_input": "2021-02-11T12:21:28.152117Z",
     "iopub.status.busy": "2021-02-11T12:21:28.147921Z",
     "iopub.status.idle": "2021-02-11T12:21:36.517720Z",
     "shell.execute_reply": "2021-02-11T12:21:36.518327Z"
    },
    "papermill": {
     "duration": 8.416492,
     "end_time": "2021-02-11T12:21:36.518517",
     "exception": false,
     "start_time": "2021-02-11T12:21:28.102025",
     "status": "completed"
    },
    "tags": []
   },
   "outputs": [
    {
     "name": "stdout",
     "output_type": "stream",
     "text": [
      "RMSE using Linear Regression :  26.350405566476326\n"
     ]
    }
   ],
   "source": [
    "#Using Linear Regression\n",
    "response = model_selection(model_num=1)\n",
    "print(\"RMSE using Linear Regression : \",np.sqrt(metrics.mean_squared_error(response.y_pred[0:253],response.y_test[0:253])))"
   ]
  },
  {
   "cell_type": "code",
   "execution_count": 22,
   "metadata": {
    "execution": {
     "iopub.execute_input": "2021-02-11T12:21:36.606366Z",
     "iopub.status.busy": "2021-02-11T12:21:36.601884Z",
     "iopub.status.idle": "2021-02-11T12:21:45.110241Z",
     "shell.execute_reply": "2021-02-11T12:21:45.110835Z"
    },
    "papermill": {
     "duration": 8.556989,
     "end_time": "2021-02-11T12:21:45.111064",
     "exception": false,
     "start_time": "2021-02-11T12:21:36.554075",
     "status": "completed"
    },
    "tags": []
   },
   "outputs": [
    {
     "name": "stdout",
     "output_type": "stream",
     "text": [
      "RMSE using Lasso :  26.35370536682204\n"
     ]
    }
   ],
   "source": [
    "#Using Lasso\n",
    "response = model_selection(model_num=5)\n",
    "print(\"RMSE using Lasso : \",np.sqrt(metrics.mean_squared_error(response.y_pred[0:253],response.y_test[0:253])))"
   ]
  },
  {
   "cell_type": "code",
   "execution_count": 23,
   "metadata": {
    "execution": {
     "iopub.execute_input": "2021-02-11T12:21:45.197581Z",
     "iopub.status.busy": "2021-02-11T12:21:45.193901Z",
     "iopub.status.idle": "2021-02-11T12:27:57.518587Z",
     "shell.execute_reply": "2021-02-11T12:27:57.519110Z"
    },
    "papermill": {
     "duration": 372.372581,
     "end_time": "2021-02-11T12:27:57.519310",
     "exception": false,
     "start_time": "2021-02-11T12:21:45.146729",
     "status": "completed"
    },
    "tags": []
   },
   "outputs": [
    {
     "name": "stdout",
     "output_type": "stream",
     "text": [
      "RMSE using Stacking :  27.67406285569055\n"
     ]
    }
   ],
   "source": [
    "#Using Stacking\n",
    "response = model_selection(model_num=6)\n",
    "print(\"RMSE using Stacking : \",np.sqrt(metrics.mean_squared_error(response.y_pred[0:253],response.y_test[0:253])))"
   ]
  },
  {
   "cell_type": "markdown",
   "metadata": {
    "papermill": {
     "duration": 0.035823,
     "end_time": "2021-02-11T12:27:57.590702",
     "exception": false,
     "start_time": "2021-02-11T12:27:57.554879",
     "status": "completed"
    },
    "tags": []
   },
   "source": [
    "# Predicting IPL 2020 player performance"
   ]
  },
  {
   "cell_type": "markdown",
   "metadata": {
    "papermill": {
     "duration": 0.037149,
     "end_time": "2021-02-11T12:27:57.663642",
     "exception": false,
     "start_time": "2021-02-11T12:27:57.626493",
     "status": "completed"
    },
    "tags": []
   },
   "source": [
    "**Removing Duplicate KD Karthik and Spliting Match Id and Player Name and adding Date column for sorting in chronological order.**"
   ]
  },
  {
   "cell_type": "code",
   "execution_count": 24,
   "metadata": {
    "execution": {
     "iopub.execute_input": "2021-02-11T12:27:57.744990Z",
     "iopub.status.busy": "2021-02-11T12:27:57.744257Z",
     "iopub.status.idle": "2021-02-11T12:27:57.770171Z",
     "shell.execute_reply": "2021-02-11T12:27:57.769598Z"
    },
    "papermill": {
     "duration": 0.070497,
     "end_time": "2021-02-11T12:27:57.770337",
     "exception": false,
     "start_time": "2021-02-11T12:27:57.699840",
     "status": "completed"
    },
    "tags": []
   },
   "outputs": [],
   "source": [
    "submission = submission.drop(index=551).reset_index(drop= True)\n",
    "submission[\"match_id\"] = submission[\"Id\"].apply(lambda x: int(x.split(\"_\")[0]))\n",
    "submission[\"player\"] = submission[\"Id\"].apply(lambda x: x.split(\"_\")[1])\n",
    "current_data_date[\"date\"] = pd.to_datetime(current_data_date[\"date\"])\n",
    "submission = submission.merge(current_data_date.iloc[:,[0,2]],on = \"match_id\", how = \"left\")\n",
    "submission_new = submission.groupby([\"player\",\"date\"],axis = 0, as_index= False).sum()"
   ]
  },
  {
   "cell_type": "markdown",
   "metadata": {
    "papermill": {
     "duration": 0.035506,
     "end_time": "2021-02-11T12:27:57.841493",
     "exception": false,
     "start_time": "2021-02-11T12:27:57.805987",
     "status": "completed"
    },
    "tags": []
   },
   "source": [
    "**Removing NA values**"
   ]
  },
  {
   "cell_type": "code",
   "execution_count": 25,
   "metadata": {
    "execution": {
     "iopub.execute_input": "2021-02-11T12:27:57.916302Z",
     "iopub.status.busy": "2021-02-11T12:27:57.915547Z",
     "iopub.status.idle": "2021-02-11T12:27:57.931257Z",
     "shell.execute_reply": "2021-02-11T12:27:57.930412Z"
    },
    "papermill": {
     "duration": 0.054514,
     "end_time": "2021-02-11T12:27:57.931443",
     "exception": false,
     "start_time": "2021-02-11T12:27:57.876929",
     "status": "completed"
    },
    "tags": []
   },
   "outputs": [
    {
     "data": {
      "text/html": [
       "<div>\n",
       "<style scoped>\n",
       "    .dataframe tbody tr th:only-of-type {\n",
       "        vertical-align: middle;\n",
       "    }\n",
       "\n",
       "    .dataframe tbody tr th {\n",
       "        vertical-align: top;\n",
       "    }\n",
       "\n",
       "    .dataframe thead th {\n",
       "        text-align: right;\n",
       "    }\n",
       "</style>\n",
       "<table border=\"1\" class=\"dataframe\">\n",
       "  <thead>\n",
       "    <tr style=\"text-align: right;\">\n",
       "      <th></th>\n",
       "      <th>player</th>\n",
       "      <th>date</th>\n",
       "      <th>Total Points</th>\n",
       "      <th>match_id</th>\n",
       "    </tr>\n",
       "  </thead>\n",
       "  <tbody>\n",
       "    <tr>\n",
       "      <th>0</th>\n",
       "      <td>A Mishra</td>\n",
       "      <td>2020-09-25</td>\n",
       "      <td>0</td>\n",
       "      <td>1216539</td>\n",
       "    </tr>\n",
       "    <tr>\n",
       "      <th>1</th>\n",
       "      <td>A Mishra</td>\n",
       "      <td>2020-09-29</td>\n",
       "      <td>0</td>\n",
       "      <td>1216532</td>\n",
       "    </tr>\n",
       "    <tr>\n",
       "      <th>2</th>\n",
       "      <td>A Mishra</td>\n",
       "      <td>2020-10-03</td>\n",
       "      <td>0</td>\n",
       "      <td>1216515</td>\n",
       "    </tr>\n",
       "    <tr>\n",
       "      <th>3</th>\n",
       "      <td>A Zampa</td>\n",
       "      <td>2020-09-28</td>\n",
       "      <td>0</td>\n",
       "      <td>1216547</td>\n",
       "    </tr>\n",
       "    <tr>\n",
       "      <th>4</th>\n",
       "      <td>A Zampa</td>\n",
       "      <td>2020-10-03</td>\n",
       "      <td>0</td>\n",
       "      <td>1216514</td>\n",
       "    </tr>\n",
       "    <tr>\n",
       "      <th>...</th>\n",
       "      <td>...</td>\n",
       "      <td>...</td>\n",
       "      <td>...</td>\n",
       "      <td>...</td>\n",
       "    </tr>\n",
       "    <tr>\n",
       "      <th>1274</th>\n",
       "      <td>YS Chahal</td>\n",
       "      <td>2020-10-25</td>\n",
       "      <td>0</td>\n",
       "      <td>1216544</td>\n",
       "    </tr>\n",
       "    <tr>\n",
       "      <th>1275</th>\n",
       "      <td>YS Chahal</td>\n",
       "      <td>2020-10-28</td>\n",
       "      <td>0</td>\n",
       "      <td>1216499</td>\n",
       "    </tr>\n",
       "    <tr>\n",
       "      <th>1276</th>\n",
       "      <td>YS Chahal</td>\n",
       "      <td>2020-10-31</td>\n",
       "      <td>0</td>\n",
       "      <td>1216502</td>\n",
       "    </tr>\n",
       "    <tr>\n",
       "      <th>1277</th>\n",
       "      <td>YS Chahal</td>\n",
       "      <td>2020-11-02</td>\n",
       "      <td>0</td>\n",
       "      <td>1216505</td>\n",
       "    </tr>\n",
       "    <tr>\n",
       "      <th>1278</th>\n",
       "      <td>YS Chahal</td>\n",
       "      <td>2020-11-06</td>\n",
       "      <td>0</td>\n",
       "      <td>1237178</td>\n",
       "    </tr>\n",
       "  </tbody>\n",
       "</table>\n",
       "<p>1279 rows × 4 columns</p>\n",
       "</div>"
      ],
      "text/plain": [
       "         player       date  Total Points  match_id\n",
       "0      A Mishra 2020-09-25             0   1216539\n",
       "1      A Mishra 2020-09-29             0   1216532\n",
       "2      A Mishra 2020-10-03             0   1216515\n",
       "3       A Zampa 2020-09-28             0   1216547\n",
       "4       A Zampa 2020-10-03             0   1216514\n",
       "...         ...        ...           ...       ...\n",
       "1274  YS Chahal 2020-10-25             0   1216544\n",
       "1275  YS Chahal 2020-10-28             0   1216499\n",
       "1276  YS Chahal 2020-10-31             0   1216502\n",
       "1277  YS Chahal 2020-11-02             0   1216505\n",
       "1278  YS Chahal 2020-11-06             0   1237178\n",
       "\n",
       "[1279 rows x 4 columns]"
      ]
     },
     "execution_count": 25,
     "metadata": {},
     "output_type": "execute_result"
    }
   ],
   "source": [
    "submission_new = submission_new.iloc[0:1279,:]\n",
    "submission_new"
   ]
  },
  {
   "cell_type": "markdown",
   "metadata": {
    "papermill": {
     "duration": 0.036344,
     "end_time": "2021-02-11T12:27:58.006954",
     "exception": false,
     "start_time": "2021-02-11T12:27:57.970610",
     "status": "completed"
    },
    "tags": []
   },
   "source": [
    "**Predicting Players performance match by match and adding the latest data in the training data for the next prediction.**"
   ]
  },
  {
   "cell_type": "code",
   "execution_count": 26,
   "metadata": {
    "collapsed": true,
    "execution": {
     "iopub.execute_input": "2021-02-11T12:27:58.088347Z",
     "iopub.status.busy": "2021-02-11T12:27:58.087567Z",
     "iopub.status.idle": "2021-02-11T12:52:50.837609Z",
     "shell.execute_reply": "2021-02-11T12:52:50.836763Z"
    },
    "papermill": {
     "duration": 1492.794555,
     "end_time": "2021-02-11T12:52:50.837846",
     "exception": false,
     "start_time": "2021-02-11T12:27:58.043291",
     "status": "completed"
    },
    "tags": []
   },
   "outputs": [
    {
     "name": "stderr",
     "output_type": "stream",
     "text": [
      "/opt/conda/lib/python3.7/site-packages/sklearn/linear_model/_coordinate_descent.py:531: ConvergenceWarning: Objective did not converge. You might want to increase the number of iterations. Duality gap: 0.0, tolerance: 0.0\n",
      "  positive)\n",
      "/opt/conda/lib/python3.7/site-packages/sklearn/linear_model/_coordinate_descent.py:531: ConvergenceWarning: Objective did not converge. You might want to increase the number of iterations. Duality gap: 0.0, tolerance: 0.0\n",
      "  positive)\n",
      "/opt/conda/lib/python3.7/site-packages/sklearn/linear_model/_coordinate_descent.py:531: ConvergenceWarning: Objective did not converge. You might want to increase the number of iterations. Duality gap: 0.0, tolerance: 0.0\n",
      "  positive)\n",
      "/opt/conda/lib/python3.7/site-packages/sklearn/linear_model/_coordinate_descent.py:531: ConvergenceWarning: Objective did not converge. You might want to increase the number of iterations. Duality gap: 0.0, tolerance: 0.0\n",
      "  positive)\n",
      "/opt/conda/lib/python3.7/site-packages/sklearn/linear_model/_coordinate_descent.py:531: ConvergenceWarning: Objective did not converge. You might want to increase the number of iterations. Duality gap: 0.0, tolerance: 0.0\n",
      "  positive)\n",
      "/opt/conda/lib/python3.7/site-packages/sklearn/linear_model/_coordinate_descent.py:531: ConvergenceWarning: Objective did not converge. You might want to increase the number of iterations. Duality gap: 0.0, tolerance: 0.0\n",
      "  positive)\n",
      "/opt/conda/lib/python3.7/site-packages/sklearn/linear_model/_coordinate_descent.py:531: ConvergenceWarning: Objective did not converge. You might want to increase the number of iterations. Duality gap: 0.0, tolerance: 0.0\n",
      "  positive)\n",
      "/opt/conda/lib/python3.7/site-packages/sklearn/linear_model/_coordinate_descent.py:531: ConvergenceWarning: Objective did not converge. You might want to increase the number of iterations. Duality gap: 0.0, tolerance: 0.0\n",
      "  positive)\n",
      "/opt/conda/lib/python3.7/site-packages/sklearn/linear_model/_coordinate_descent.py:531: ConvergenceWarning: Objective did not converge. You might want to increase the number of iterations. Duality gap: 0.0, tolerance: 0.0\n",
      "  positive)\n",
      "/opt/conda/lib/python3.7/site-packages/sklearn/linear_model/_coordinate_descent.py:531: ConvergenceWarning: Objective did not converge. You might want to increase the number of iterations. Duality gap: 0.0, tolerance: 0.0\n",
      "  positive)\n",
      "/opt/conda/lib/python3.7/site-packages/sklearn/linear_model/_coordinate_descent.py:531: ConvergenceWarning: Objective did not converge. You might want to increase the number of iterations. Duality gap: 0.0, tolerance: 0.0\n",
      "  positive)\n",
      "/opt/conda/lib/python3.7/site-packages/sklearn/linear_model/_coordinate_descent.py:531: ConvergenceWarning: Objective did not converge. You might want to increase the number of iterations. Duality gap: 0.0, tolerance: 0.0\n",
      "  positive)\n",
      "/opt/conda/lib/python3.7/site-packages/sklearn/linear_model/_coordinate_descent.py:531: ConvergenceWarning: Objective did not converge. You might want to increase the number of iterations. Duality gap: 0.0, tolerance: 0.0\n",
      "  positive)\n",
      "/opt/conda/lib/python3.7/site-packages/sklearn/linear_model/_coordinate_descent.py:531: ConvergenceWarning: Objective did not converge. You might want to increase the number of iterations. Duality gap: 0.0, tolerance: 0.0\n",
      "  positive)\n",
      "/opt/conda/lib/python3.7/site-packages/sklearn/linear_model/_coordinate_descent.py:531: ConvergenceWarning: Objective did not converge. You might want to increase the number of iterations. Duality gap: 0.0, tolerance: 0.0\n",
      "  positive)\n"
     ]
    }
   ],
   "source": [
    "for i in range(0,submission_new.shape[0]):\n",
    "    name = submission_new[\"player\"][i]\n",
    "    date = submission_new[\"date\"][i]\n",
    "    training_data_new.loc[training_data_new.shape[0]] = [name, date, 0, 1111]\n",
    "    submission_new.loc[i,\"Total Points\"] = int(future_values(name,model_num=6))\n",
    "    training_data_new.loc[training_data_new.shape[0]-1,\"Total Points\"] = submission_new[\"Total Points\"][i]"
   ]
  },
  {
   "cell_type": "markdown",
   "metadata": {
    "papermill": {
     "duration": 0.041645,
     "end_time": "2021-02-11T12:52:50.921362",
     "exception": false,
     "start_time": "2021-02-11T12:52:50.879717",
     "status": "completed"
    },
    "tags": []
   },
   "source": [
    "**Result**"
   ]
  },
  {
   "cell_type": "code",
   "execution_count": 27,
   "metadata": {
    "execution": {
     "iopub.execute_input": "2021-02-11T12:52:51.019652Z",
     "iopub.status.busy": "2021-02-11T12:52:51.018902Z",
     "iopub.status.idle": "2021-02-11T12:52:51.024484Z",
     "shell.execute_reply": "2021-02-11T12:52:51.023941Z"
    },
    "papermill": {
     "duration": 0.06278,
     "end_time": "2021-02-11T12:52:51.024631",
     "exception": false,
     "start_time": "2021-02-11T12:52:50.961851",
     "status": "completed"
    },
    "tags": []
   },
   "outputs": [
    {
     "data": {
      "text/html": [
       "<div>\n",
       "<style scoped>\n",
       "    .dataframe tbody tr th:only-of-type {\n",
       "        vertical-align: middle;\n",
       "    }\n",
       "\n",
       "    .dataframe tbody tr th {\n",
       "        vertical-align: top;\n",
       "    }\n",
       "\n",
       "    .dataframe thead th {\n",
       "        text-align: right;\n",
       "    }\n",
       "</style>\n",
       "<table border=\"1\" class=\"dataframe\">\n",
       "  <thead>\n",
       "    <tr style=\"text-align: right;\">\n",
       "      <th></th>\n",
       "      <th>player</th>\n",
       "      <th>date</th>\n",
       "      <th>Total Points</th>\n",
       "      <th>match_id</th>\n",
       "    </tr>\n",
       "  </thead>\n",
       "  <tbody>\n",
       "    <tr>\n",
       "      <th>0</th>\n",
       "      <td>A Mishra</td>\n",
       "      <td>2020-09-25</td>\n",
       "      <td>28</td>\n",
       "      <td>1216539</td>\n",
       "    </tr>\n",
       "    <tr>\n",
       "      <th>1</th>\n",
       "      <td>A Mishra</td>\n",
       "      <td>2020-09-29</td>\n",
       "      <td>33</td>\n",
       "      <td>1216532</td>\n",
       "    </tr>\n",
       "    <tr>\n",
       "      <th>2</th>\n",
       "      <td>A Mishra</td>\n",
       "      <td>2020-10-03</td>\n",
       "      <td>25</td>\n",
       "      <td>1216515</td>\n",
       "    </tr>\n",
       "    <tr>\n",
       "      <th>3</th>\n",
       "      <td>A Zampa</td>\n",
       "      <td>2020-09-28</td>\n",
       "      <td>41</td>\n",
       "      <td>1216547</td>\n",
       "    </tr>\n",
       "    <tr>\n",
       "      <th>4</th>\n",
       "      <td>A Zampa</td>\n",
       "      <td>2020-10-03</td>\n",
       "      <td>41</td>\n",
       "      <td>1216514</td>\n",
       "    </tr>\n",
       "    <tr>\n",
       "      <th>...</th>\n",
       "      <td>...</td>\n",
       "      <td>...</td>\n",
       "      <td>...</td>\n",
       "      <td>...</td>\n",
       "    </tr>\n",
       "    <tr>\n",
       "      <th>1274</th>\n",
       "      <td>YS Chahal</td>\n",
       "      <td>2020-10-25</td>\n",
       "      <td>32</td>\n",
       "      <td>1216544</td>\n",
       "    </tr>\n",
       "    <tr>\n",
       "      <th>1275</th>\n",
       "      <td>YS Chahal</td>\n",
       "      <td>2020-10-28</td>\n",
       "      <td>30</td>\n",
       "      <td>1216499</td>\n",
       "    </tr>\n",
       "    <tr>\n",
       "      <th>1276</th>\n",
       "      <td>YS Chahal</td>\n",
       "      <td>2020-10-31</td>\n",
       "      <td>30</td>\n",
       "      <td>1216502</td>\n",
       "    </tr>\n",
       "    <tr>\n",
       "      <th>1277</th>\n",
       "      <td>YS Chahal</td>\n",
       "      <td>2020-11-02</td>\n",
       "      <td>30</td>\n",
       "      <td>1216505</td>\n",
       "    </tr>\n",
       "    <tr>\n",
       "      <th>1278</th>\n",
       "      <td>YS Chahal</td>\n",
       "      <td>2020-11-06</td>\n",
       "      <td>29</td>\n",
       "      <td>1237178</td>\n",
       "    </tr>\n",
       "  </tbody>\n",
       "</table>\n",
       "<p>1279 rows × 4 columns</p>\n",
       "</div>"
      ],
      "text/plain": [
       "         player       date  Total Points  match_id\n",
       "0      A Mishra 2020-09-25            28   1216539\n",
       "1      A Mishra 2020-09-29            33   1216532\n",
       "2      A Mishra 2020-10-03            25   1216515\n",
       "3       A Zampa 2020-09-28            41   1216547\n",
       "4       A Zampa 2020-10-03            41   1216514\n",
       "...         ...        ...           ...       ...\n",
       "1274  YS Chahal 2020-10-25            32   1216544\n",
       "1275  YS Chahal 2020-10-28            30   1216499\n",
       "1276  YS Chahal 2020-10-31            30   1216502\n",
       "1277  YS Chahal 2020-11-02            30   1216505\n",
       "1278  YS Chahal 2020-11-06            29   1237178\n",
       "\n",
       "[1279 rows x 4 columns]"
      ]
     },
     "execution_count": 27,
     "metadata": {},
     "output_type": "execute_result"
    }
   ],
   "source": [
    "submission_new"
   ]
  },
  {
   "cell_type": "markdown",
   "metadata": {
    "papermill": {
     "duration": 0.040708,
     "end_time": "2021-02-11T12:52:51.106348",
     "exception": false,
     "start_time": "2021-02-11T12:52:51.065640",
     "status": "completed"
    },
    "tags": []
   },
   "source": [
    "**Final Submission Data has 1279 rows instead of 1283 because of one duplicate and 3 nan values**"
   ]
  },
  {
   "cell_type": "code",
   "execution_count": 28,
   "metadata": {
    "execution": {
     "iopub.execute_input": "2021-02-11T12:52:51.214672Z",
     "iopub.status.busy": "2021-02-11T12:52:51.211569Z",
     "iopub.status.idle": "2021-02-11T12:52:51.234453Z",
     "shell.execute_reply": "2021-02-11T12:52:51.233746Z"
    },
    "papermill": {
     "duration": 0.087159,
     "end_time": "2021-02-11T12:52:51.234614",
     "exception": false,
     "start_time": "2021-02-11T12:52:51.147455",
     "status": "completed"
    },
    "tags": []
   },
   "outputs": [
    {
     "data": {
      "text/html": [
       "<div>\n",
       "<style scoped>\n",
       "    .dataframe tbody tr th:only-of-type {\n",
       "        vertical-align: middle;\n",
       "    }\n",
       "\n",
       "    .dataframe tbody tr th {\n",
       "        vertical-align: top;\n",
       "    }\n",
       "\n",
       "    .dataframe thead th {\n",
       "        text-align: right;\n",
       "    }\n",
       "</style>\n",
       "<table border=\"1\" class=\"dataframe\">\n",
       "  <thead>\n",
       "    <tr style=\"text-align: right;\">\n",
       "      <th></th>\n",
       "      <th>Id</th>\n",
       "      <th>Total Points</th>\n",
       "    </tr>\n",
       "  </thead>\n",
       "  <tbody>\n",
       "    <tr>\n",
       "      <th>0</th>\n",
       "      <td>1216492_AS Yadav</td>\n",
       "      <td>26</td>\n",
       "    </tr>\n",
       "    <tr>\n",
       "      <th>1</th>\n",
       "      <td>1216492_AT Rayudu</td>\n",
       "      <td>31</td>\n",
       "    </tr>\n",
       "    <tr>\n",
       "      <th>2</th>\n",
       "      <td>1216492_DL Chahar</td>\n",
       "      <td>19</td>\n",
       "    </tr>\n",
       "    <tr>\n",
       "      <th>3</th>\n",
       "      <td>1216492_F du Plessis</td>\n",
       "      <td>36</td>\n",
       "    </tr>\n",
       "    <tr>\n",
       "      <th>4</th>\n",
       "      <td>1216492_HH Pandya</td>\n",
       "      <td>30</td>\n",
       "    </tr>\n",
       "    <tr>\n",
       "      <th>...</th>\n",
       "      <td>...</td>\n",
       "      <td>...</td>\n",
       "    </tr>\n",
       "    <tr>\n",
       "      <th>1278</th>\n",
       "      <td>1237181_S Hetmyer</td>\n",
       "      <td>39</td>\n",
       "    </tr>\n",
       "    <tr>\n",
       "      <th>1279</th>\n",
       "      <td>1237181_SA Yadav</td>\n",
       "      <td>16</td>\n",
       "    </tr>\n",
       "    <tr>\n",
       "      <th>1280</th>\n",
       "      <td>1237181_SS Iyer</td>\n",
       "      <td>30</td>\n",
       "    </tr>\n",
       "    <tr>\n",
       "      <th>1281</th>\n",
       "      <td>1237181_SS Tiwary</td>\n",
       "      <td>28</td>\n",
       "    </tr>\n",
       "    <tr>\n",
       "      <th>1282</th>\n",
       "      <td>1237181_TA Boult</td>\n",
       "      <td>30</td>\n",
       "    </tr>\n",
       "  </tbody>\n",
       "</table>\n",
       "<p>1283 rows × 2 columns</p>\n",
       "</div>"
      ],
      "text/plain": [
       "                        Id  Total Points\n",
       "0         1216492_AS Yadav            26\n",
       "1        1216492_AT Rayudu            31\n",
       "2        1216492_DL Chahar            19\n",
       "3     1216492_F du Plessis            36\n",
       "4        1216492_HH Pandya            30\n",
       "...                    ...           ...\n",
       "1278     1237181_S Hetmyer            39\n",
       "1279      1237181_SA Yadav            16\n",
       "1280       1237181_SS Iyer            30\n",
       "1281     1237181_SS Tiwary            28\n",
       "1282      1237181_TA Boult            30\n",
       "\n",
       "[1283 rows x 2 columns]"
      ]
     },
     "execution_count": 28,
     "metadata": {},
     "output_type": "execute_result"
    }
   ],
   "source": [
    "submission_final = pd.DataFrame()\n",
    "submission_final[\"Id\"] = submission_new[\"match_id\"].astype(str) + \"_\" + submission_new[\"player\"]\n",
    "submission_final[\"Total Points\"] = submission_new[\"Total Points\"]\n",
    "submission_final.loc[1279] = [\"1216517_KD Karthik\",0]\n",
    "submission_final.loc[1280] = [\"1216493_nan\",0]\n",
    "submission_final.loc[1281] = [\"1216512_nan\",0]\n",
    "submission_final.loc[1282] = [\"1216547_nan\",0]\n",
    "submission_final.sort_values(by= [\"Id\"],inplace = True)\n",
    "submission_final.reset_index(drop = True)"
   ]
  },
  {
   "cell_type": "code",
   "execution_count": 29,
   "metadata": {
    "execution": {
     "iopub.execute_input": "2021-02-11T12:52:51.324854Z",
     "iopub.status.busy": "2021-02-11T12:52:51.324181Z",
     "iopub.status.idle": "2021-02-11T12:52:51.333816Z",
     "shell.execute_reply": "2021-02-11T12:52:51.333142Z"
    },
    "papermill": {
     "duration": 0.057002,
     "end_time": "2021-02-11T12:52:51.334002",
     "exception": false,
     "start_time": "2021-02-11T12:52:51.277000",
     "status": "completed"
    },
    "tags": []
   },
   "outputs": [],
   "source": [
    "submission_final.to_csv(\"submission.csv\",index=False)"
   ]
  }
 ],
 "metadata": {
  "kernelspec": {
   "display_name": "Python 3",
   "language": "python",
   "name": "python3"
  },
  "language_info": {
   "codemirror_mode": {
    "name": "ipython",
    "version": 3
   },
   "file_extension": ".py",
   "mimetype": "text/x-python",
   "name": "python",
   "nbconvert_exporter": "python",
   "pygments_lexer": "ipython3",
   "version": "3.7.9"
  },
  "papermill": {
   "default_parameters": {},
   "duration": 1978.536804,
   "end_time": "2021-02-11T12:52:52.087422",
   "environment_variables": {},
   "exception": null,
   "input_path": "__notebook__.ipynb",
   "output_path": "__notebook__.ipynb",
   "parameters": {},
   "start_time": "2021-02-11T12:19:53.550618",
   "version": "2.2.2"
  }
 },
 "nbformat": 4,
 "nbformat_minor": 4
}
