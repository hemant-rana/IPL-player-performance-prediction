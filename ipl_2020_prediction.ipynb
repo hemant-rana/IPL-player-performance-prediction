{
  "nbformat": 4,
  "nbformat_minor": 0,
  "metadata": {
    "kernelspec": {
      "display_name": "Python 3",
      "language": "python",
      "name": "python3"
    },
    "language_info": {
      "codemirror_mode": {
        "name": "ipython",
        "version": 3
      },
      "file_extension": ".py",
      "mimetype": "text/x-python",
      "name": "python",
      "nbconvert_exporter": "python",
      "pygments_lexer": "ipython3",
      "version": "3.7.9"
    },
    "papermill": {
      "default_parameters": {},
      "duration": 1978.536804,
      "end_time": "2021-02-11T12:52:52.087422",
      "environment_variables": {},
      "exception": null,
      "input_path": "__notebook__.ipynb",
      "output_path": "__notebook__.ipynb",
      "parameters": {},
      "start_time": "2021-02-11T12:19:53.550618",
      "version": "2.2.2"
    },
    "colab": {
      "name": "ipl-2020-prediction.ipynb",
      "provenance": [],
      "collapsed_sections": []
    }
  },
  "cells": [
    {
      "cell_type": "code",
      "metadata": {
        "_cell_guid": "b1076dfc-b9ad-4769-8c92-a6c4dae69d19",
        "_uuid": "8f2839f25d086af736a60e9eeb907d3b93b6e0e5",
        "execution": {
          "iopub.execute_input": "2021-02-11T12:19:59.737173Z",
          "iopub.status.busy": "2021-02-11T12:19:59.736433Z",
          "iopub.status.idle": "2021-02-11T12:19:59.744306Z",
          "shell.execute_reply": "2021-02-11T12:19:59.743141Z"
        },
        "papermill": {
          "duration": 0.043264,
          "end_time": "2021-02-11T12:19:59.744629",
          "exception": false,
          "start_time": "2021-02-11T12:19:59.701365",
          "status": "completed"
        },
        "tags": [],
        "id": "IlvazbpMrT-m"
      },
      "source": [
        "import numpy as np\n",
        "import pandas as pd"
      ],
      "execution_count": 30,
      "outputs": []
    },
    {
      "cell_type": "markdown",
      "metadata": {
        "papermill": {
          "duration": 0.027182,
          "end_time": "2021-02-11T12:19:59.799693",
          "exception": false,
          "start_time": "2021-02-11T12:19:59.772511",
          "status": "completed"
        },
        "tags": [],
        "id": "FoAX1KV1rT-p"
      },
      "source": [
        "# DATA IMPORTING"
      ]
    },
    {
      "cell_type": "code",
      "metadata": {
        "colab": {
          "base_uri": "https://localhost:8080/"
        },
        "id": "pO7kXGNUu4H1",
        "outputId": "c9a2e2ad-ff1e-46ab-aa24-7cf684bcb1bb"
      },
      "source": [
        "from google.colab import drive\n",
        "drive.mount('/content/drive')"
      ],
      "execution_count": 1,
      "outputs": [
        {
          "output_type": "stream",
          "text": [
            "Mounted at /content/drive\n"
          ],
          "name": "stdout"
        }
      ]
    },
    {
      "cell_type": "code",
      "metadata": {
        "execution": {
          "iopub.execute_input": "2021-02-11T12:19:59.859827Z",
          "iopub.status.busy": "2021-02-11T12:19:59.859025Z",
          "iopub.status.idle": "2021-02-11T12:19:59.979430Z",
          "shell.execute_reply": "2021-02-11T12:19:59.978636Z"
        },
        "papermill": {
          "duration": 0.152955,
          "end_time": "2021-02-11T12:19:59.979620",
          "exception": false,
          "start_time": "2021-02-11T12:19:59.826665",
          "status": "completed"
        },
        "tags": [],
        "id": "wqUIlwJMrT-q"
      },
      "source": [
        "training_data = pd.read_csv(\"/content/drive/MyDrive/Training.csv\")\n",
        "training_data_date = pd.read_csv(\"/content/drive/MyDrive/Matches IPL 2008-2019.csv\")\n",
        "current_data_date = pd.read_csv(\"/content/drive/MyDrive/Matches IPL 2020.csv\")\n",
        "submission = pd.read_csv(\"/content/drive/MyDrive/sample_submission.csv\")"
      ],
      "execution_count": 4,
      "outputs": []
    },
    {
      "cell_type": "code",
      "metadata": {
        "execution": {
          "iopub.execute_input": "2021-02-11T12:20:00.052715Z",
          "iopub.status.busy": "2021-02-11T12:20:00.052047Z",
          "iopub.status.idle": "2021-02-11T12:20:00.077185Z",
          "shell.execute_reply": "2021-02-11T12:20:00.077687Z"
        },
        "papermill": {
          "duration": 0.067597,
          "end_time": "2021-02-11T12:20:00.077898",
          "exception": false,
          "start_time": "2021-02-11T12:20:00.010301",
          "status": "completed"
        },
        "tags": [],
        "colab": {
          "base_uri": "https://localhost:8080/",
          "height": 204
        },
        "id": "ZlYLtVvJrT-r",
        "outputId": "59b93b32-173d-4d2b-9cd8-0ee1f31cfb68"
      },
      "source": [
        "training_data.head()"
      ],
      "execution_count": 5,
      "outputs": [
        {
          "output_type": "execute_result",
          "data": {
            "text/html": [
              "<div>\n",
              "<style scoped>\n",
              "    .dataframe tbody tr th:only-of-type {\n",
              "        vertical-align: middle;\n",
              "    }\n",
              "\n",
              "    .dataframe tbody tr th {\n",
              "        vertical-align: top;\n",
              "    }\n",
              "\n",
              "    .dataframe thead th {\n",
              "        text-align: right;\n",
              "    }\n",
              "</style>\n",
              "<table border=\"1\" class=\"dataframe\">\n",
              "  <thead>\n",
              "    <tr style=\"text-align: right;\">\n",
              "      <th></th>\n",
              "      <th>Id</th>\n",
              "      <th>Runs</th>\n",
              "      <th>Boundaries</th>\n",
              "      <th>Six</th>\n",
              "      <th>Fifty</th>\n",
              "      <th>Hundred</th>\n",
              "      <th>Duck</th>\n",
              "      <th>Batting_Points</th>\n",
              "      <th>Wickets</th>\n",
              "      <th>4W_Haul</th>\n",
              "      <th>5W_Haul</th>\n",
              "      <th>Maidens</th>\n",
              "      <th>Bowling_Points</th>\n",
              "      <th>Total Points</th>\n",
              "    </tr>\n",
              "  </thead>\n",
              "  <tbody>\n",
              "    <tr>\n",
              "      <th>0</th>\n",
              "      <td>1_Bipul Sharma</td>\n",
              "      <td>0</td>\n",
              "      <td>0</td>\n",
              "      <td>0</td>\n",
              "      <td>0</td>\n",
              "      <td>0</td>\n",
              "      <td>0</td>\n",
              "      <td>0</td>\n",
              "      <td>1</td>\n",
              "      <td>0</td>\n",
              "      <td>0</td>\n",
              "      <td>0</td>\n",
              "      <td>25</td>\n",
              "      <td>25</td>\n",
              "    </tr>\n",
              "    <tr>\n",
              "      <th>1</th>\n",
              "      <td>1_DJ Hooda</td>\n",
              "      <td>16</td>\n",
              "      <td>1</td>\n",
              "      <td>1</td>\n",
              "      <td>0</td>\n",
              "      <td>0</td>\n",
              "      <td>0</td>\n",
              "      <td>19</td>\n",
              "      <td>1</td>\n",
              "      <td>0</td>\n",
              "      <td>0</td>\n",
              "      <td>0</td>\n",
              "      <td>25</td>\n",
              "      <td>44</td>\n",
              "    </tr>\n",
              "    <tr>\n",
              "      <th>2</th>\n",
              "      <td>1_KM Jadhav</td>\n",
              "      <td>31</td>\n",
              "      <td>5</td>\n",
              "      <td>1</td>\n",
              "      <td>0</td>\n",
              "      <td>0</td>\n",
              "      <td>0</td>\n",
              "      <td>38</td>\n",
              "      <td>0</td>\n",
              "      <td>0</td>\n",
              "      <td>0</td>\n",
              "      <td>0</td>\n",
              "      <td>0</td>\n",
              "      <td>38</td>\n",
              "    </tr>\n",
              "    <tr>\n",
              "      <th>3</th>\n",
              "      <td>1_Mandeep Singh</td>\n",
              "      <td>24</td>\n",
              "      <td>5</td>\n",
              "      <td>0</td>\n",
              "      <td>0</td>\n",
              "      <td>0</td>\n",
              "      <td>0</td>\n",
              "      <td>29</td>\n",
              "      <td>0</td>\n",
              "      <td>0</td>\n",
              "      <td>0</td>\n",
              "      <td>0</td>\n",
              "      <td>0</td>\n",
              "      <td>29</td>\n",
              "    </tr>\n",
              "    <tr>\n",
              "      <th>4</th>\n",
              "      <td>1_Yuvraj Singh</td>\n",
              "      <td>62</td>\n",
              "      <td>10</td>\n",
              "      <td>3</td>\n",
              "      <td>1</td>\n",
              "      <td>0</td>\n",
              "      <td>0</td>\n",
              "      <td>86</td>\n",
              "      <td>0</td>\n",
              "      <td>0</td>\n",
              "      <td>0</td>\n",
              "      <td>0</td>\n",
              "      <td>0</td>\n",
              "      <td>86</td>\n",
              "    </tr>\n",
              "  </tbody>\n",
              "</table>\n",
              "</div>"
            ],
            "text/plain": [
              "                Id  Runs  Boundaries  ...  Maidens  Bowling_Points  Total Points\n",
              "0   1_Bipul Sharma     0           0  ...        0              25            25\n",
              "1       1_DJ Hooda    16           1  ...        0              25            44\n",
              "2      1_KM Jadhav    31           5  ...        0               0            38\n",
              "3  1_Mandeep Singh    24           5  ...        0               0            29\n",
              "4   1_Yuvraj Singh    62          10  ...        0               0            86\n",
              "\n",
              "[5 rows x 14 columns]"
            ]
          },
          "metadata": {
            "tags": []
          },
          "execution_count": 5
        }
      ]
    },
    {
      "cell_type": "markdown",
      "metadata": {
        "papermill": {
          "duration": 0.02634,
          "end_time": "2021-02-11T12:20:00.132136",
          "exception": false,
          "start_time": "2021-02-11T12:20:00.105796",
          "status": "completed"
        },
        "tags": [],
        "id": "EyMkcax6rT-r"
      },
      "source": [
        "**Data Cleaning**"
      ]
    },
    {
      "cell_type": "code",
      "metadata": {
        "execution": {
          "iopub.execute_input": "2021-02-11T12:20:00.190207Z",
          "iopub.status.busy": "2021-02-11T12:20:00.189562Z",
          "iopub.status.idle": "2021-02-11T12:20:00.251896Z",
          "shell.execute_reply": "2021-02-11T12:20:00.251240Z"
        },
        "papermill": {
          "duration": 0.09295,
          "end_time": "2021-02-11T12:20:00.252058",
          "exception": false,
          "start_time": "2021-02-11T12:20:00.159108",
          "status": "completed"
        },
        "tags": [],
        "colab": {
          "base_uri": "https://localhost:8080/",
          "height": 334
        },
        "id": "-9iQQ0efrT-r",
        "outputId": "5a9b3741-86ef-41d0-c931-70474dcf2f99"
      },
      "source": [
        "training_data.describe()"
      ],
      "execution_count": 6,
      "outputs": [
        {
          "output_type": "execute_result",
          "data": {
            "text/html": [
              "<div>\n",
              "<style scoped>\n",
              "    .dataframe tbody tr th:only-of-type {\n",
              "        vertical-align: middle;\n",
              "    }\n",
              "\n",
              "    .dataframe tbody tr th {\n",
              "        vertical-align: top;\n",
              "    }\n",
              "\n",
              "    .dataframe thead th {\n",
              "        text-align: right;\n",
              "    }\n",
              "</style>\n",
              "<table border=\"1\" class=\"dataframe\">\n",
              "  <thead>\n",
              "    <tr style=\"text-align: right;\">\n",
              "      <th></th>\n",
              "      <th>Runs</th>\n",
              "      <th>Boundaries</th>\n",
              "      <th>Six</th>\n",
              "      <th>Fifty</th>\n",
              "      <th>Hundred</th>\n",
              "      <th>Duck</th>\n",
              "      <th>Batting_Points</th>\n",
              "      <th>Wickets</th>\n",
              "      <th>4W_Haul</th>\n",
              "      <th>5W_Haul</th>\n",
              "      <th>Maidens</th>\n",
              "      <th>Bowling_Points</th>\n",
              "      <th>Total Points</th>\n",
              "    </tr>\n",
              "  </thead>\n",
              "  <tbody>\n",
              "    <tr>\n",
              "      <th>count</th>\n",
              "      <td>15916.000000</td>\n",
              "      <td>15916.000000</td>\n",
              "      <td>15916.00000</td>\n",
              "      <td>15916.000000</td>\n",
              "      <td>15916.000000</td>\n",
              "      <td>15916.000000</td>\n",
              "      <td>15916.000000</td>\n",
              "      <td>15916.000000</td>\n",
              "      <td>15916.000000</td>\n",
              "      <td>15916.000000</td>\n",
              "      <td>15916.000000</td>\n",
              "      <td>15916.000000</td>\n",
              "      <td>15916.000000</td>\n",
              "    </tr>\n",
              "    <tr>\n",
              "      <th>mean</th>\n",
              "      <td>14.029027</td>\n",
              "      <td>1.794546</td>\n",
              "      <td>0.51332</td>\n",
              "      <td>0.070872</td>\n",
              "      <td>0.003895</td>\n",
              "      <td>0.057741</td>\n",
              "      <td>17.364036</td>\n",
              "      <td>0.501508</td>\n",
              "      <td>0.007791</td>\n",
              "      <td>0.001257</td>\n",
              "      <td>0.015142</td>\n",
              "      <td>12.741267</td>\n",
              "      <td>30.105303</td>\n",
              "    </tr>\n",
              "    <tr>\n",
              "      <th>std</th>\n",
              "      <td>19.932138</td>\n",
              "      <td>2.857668</td>\n",
              "      <td>1.14761</td>\n",
              "      <td>0.256619</td>\n",
              "      <td>0.062294</td>\n",
              "      <td>0.233260</td>\n",
              "      <td>26.402587</td>\n",
              "      <td>0.860593</td>\n",
              "      <td>0.087924</td>\n",
              "      <td>0.035427</td>\n",
              "      <td>0.123146</td>\n",
              "      <td>22.079906</td>\n",
              "      <td>30.143498</td>\n",
              "    </tr>\n",
              "    <tr>\n",
              "      <th>min</th>\n",
              "      <td>0.000000</td>\n",
              "      <td>0.000000</td>\n",
              "      <td>0.00000</td>\n",
              "      <td>0.000000</td>\n",
              "      <td>0.000000</td>\n",
              "      <td>0.000000</td>\n",
              "      <td>-2.000000</td>\n",
              "      <td>0.000000</td>\n",
              "      <td>0.000000</td>\n",
              "      <td>0.000000</td>\n",
              "      <td>0.000000</td>\n",
              "      <td>0.000000</td>\n",
              "      <td>-2.000000</td>\n",
              "    </tr>\n",
              "    <tr>\n",
              "      <th>25%</th>\n",
              "      <td>0.000000</td>\n",
              "      <td>0.000000</td>\n",
              "      <td>0.00000</td>\n",
              "      <td>0.000000</td>\n",
              "      <td>0.000000</td>\n",
              "      <td>0.000000</td>\n",
              "      <td>0.000000</td>\n",
              "      <td>0.000000</td>\n",
              "      <td>0.000000</td>\n",
              "      <td>0.000000</td>\n",
              "      <td>0.000000</td>\n",
              "      <td>0.000000</td>\n",
              "      <td>5.000000</td>\n",
              "    </tr>\n",
              "    <tr>\n",
              "      <th>50%</th>\n",
              "      <td>5.000000</td>\n",
              "      <td>0.000000</td>\n",
              "      <td>0.00000</td>\n",
              "      <td>0.000000</td>\n",
              "      <td>0.000000</td>\n",
              "      <td>0.000000</td>\n",
              "      <td>6.000000</td>\n",
              "      <td>0.000000</td>\n",
              "      <td>0.000000</td>\n",
              "      <td>0.000000</td>\n",
              "      <td>0.000000</td>\n",
              "      <td>0.000000</td>\n",
              "      <td>25.000000</td>\n",
              "    </tr>\n",
              "    <tr>\n",
              "      <th>75%</th>\n",
              "      <td>21.000000</td>\n",
              "      <td>3.000000</td>\n",
              "      <td>1.00000</td>\n",
              "      <td>0.000000</td>\n",
              "      <td>0.000000</td>\n",
              "      <td>0.000000</td>\n",
              "      <td>25.000000</td>\n",
              "      <td>1.000000</td>\n",
              "      <td>0.000000</td>\n",
              "      <td>0.000000</td>\n",
              "      <td>0.000000</td>\n",
              "      <td>25.000000</td>\n",
              "      <td>48.000000</td>\n",
              "    </tr>\n",
              "    <tr>\n",
              "      <th>max</th>\n",
              "      <td>175.000000</td>\n",
              "      <td>30.000000</td>\n",
              "      <td>17.00000</td>\n",
              "      <td>1.000000</td>\n",
              "      <td>1.000000</td>\n",
              "      <td>1.000000</td>\n",
              "      <td>255.000000</td>\n",
              "      <td>6.000000</td>\n",
              "      <td>1.000000</td>\n",
              "      <td>1.000000</td>\n",
              "      <td>2.000000</td>\n",
              "      <td>174.000000</td>\n",
              "      <td>305.000000</td>\n",
              "    </tr>\n",
              "  </tbody>\n",
              "</table>\n",
              "</div>"
            ],
            "text/plain": [
              "               Runs    Boundaries  ...  Bowling_Points  Total Points\n",
              "count  15916.000000  15916.000000  ...    15916.000000  15916.000000\n",
              "mean      14.029027      1.794546  ...       12.741267     30.105303\n",
              "std       19.932138      2.857668  ...       22.079906     30.143498\n",
              "min        0.000000      0.000000  ...        0.000000     -2.000000\n",
              "25%        0.000000      0.000000  ...        0.000000      5.000000\n",
              "50%        5.000000      0.000000  ...        0.000000     25.000000\n",
              "75%       21.000000      3.000000  ...       25.000000     48.000000\n",
              "max      175.000000     30.000000  ...      174.000000    305.000000\n",
              "\n",
              "[8 rows x 13 columns]"
            ]
          },
          "metadata": {
            "tags": []
          },
          "execution_count": 6
        }
      ]
    },
    {
      "cell_type": "markdown",
      "metadata": {
        "papermill": {
          "duration": 0.027394,
          "end_time": "2021-02-11T12:20:00.307108",
          "exception": false,
          "start_time": "2021-02-11T12:20:00.279714",
          "status": "completed"
        },
        "tags": [],
        "id": "cMr5PuEXrT-s"
      },
      "source": [
        "**No Missing Values present in the Training DataSet**"
      ]
    },
    {
      "cell_type": "code",
      "metadata": {
        "execution": {
          "iopub.execute_input": "2021-02-11T12:20:00.373152Z",
          "iopub.status.busy": "2021-02-11T12:20:00.372181Z",
          "iopub.status.idle": "2021-02-11T12:20:00.377708Z",
          "shell.execute_reply": "2021-02-11T12:20:00.377141Z"
        },
        "papermill": {
          "duration": 0.04332,
          "end_time": "2021-02-11T12:20:00.377858",
          "exception": false,
          "start_time": "2021-02-11T12:20:00.334538",
          "status": "completed"
        },
        "tags": [],
        "colab": {
          "base_uri": "https://localhost:8080/"
        },
        "id": "LhLWWj95rT-s",
        "outputId": "87add020-7be0-4220-b911-6d6a92258d1d"
      },
      "source": [
        "training_data.isna().sum()"
      ],
      "execution_count": 7,
      "outputs": [
        {
          "output_type": "execute_result",
          "data": {
            "text/plain": [
              "Id                0\n",
              "Runs              0\n",
              "Boundaries        0\n",
              "Six               0\n",
              "Fifty             0\n",
              "Hundred           0\n",
              "Duck              0\n",
              "Batting_Points    0\n",
              "Wickets           0\n",
              "4W_Haul           0\n",
              "5W_Haul           0\n",
              "Maidens           0\n",
              "Bowling_Points    0\n",
              "Total Points      0\n",
              "dtype: int64"
            ]
          },
          "metadata": {
            "tags": []
          },
          "execution_count": 7
        }
      ]
    },
    {
      "cell_type": "markdown",
      "metadata": {
        "papermill": {
          "duration": 0.027751,
          "end_time": "2021-02-11T12:20:00.433401",
          "exception": false,
          "start_time": "2021-02-11T12:20:00.405650",
          "status": "completed"
        },
        "tags": [],
        "id": "CmnbodtdrT-t"
      },
      "source": [
        "**Dropping the columns that we do not need and adding the Date Column as the Match ID column is not in Chronological order**"
      ]
    },
    {
      "cell_type": "code",
      "metadata": {
        "execution": {
          "iopub.execute_input": "2021-02-11T12:20:00.550444Z",
          "iopub.status.busy": "2021-02-11T12:20:00.544853Z",
          "iopub.status.idle": "2021-02-11T12:20:00.616531Z",
          "shell.execute_reply": "2021-02-11T12:20:00.615422Z"
        },
        "papermill": {
          "duration": 0.152043,
          "end_time": "2021-02-11T12:20:00.616716",
          "exception": false,
          "start_time": "2021-02-11T12:20:00.464673",
          "status": "completed"
        },
        "tags": [],
        "colab": {
          "base_uri": "https://localhost:8080/",
          "height": 419
        },
        "id": "O1oc_NKarT-t",
        "outputId": "3820637d-bcea-482e-c7c4-120d8ebedea5"
      },
      "source": [
        "training_data[\"match_id\"] = training_data[\"Id\"].apply(lambda x: int(x.split(\"_\")[0]))\n",
        "training_data[\"player\"] = training_data[\"Id\"].apply(lambda x: x.split(\"_\")[1])\n",
        "training_data_date[\"date\"] = pd.to_datetime(training_data_date[\"date\"])\n",
        "training_data.drop(training_data.iloc[:,1:13],axis=1,inplace=True)\n",
        "training_data = training_data.merge(training_data_date.iloc[:,[0,3]],on = \"match_id\", how = \"inner\")\n",
        "training_data_new = training_data.groupby([\"player\",\"date\"],axis = 0, as_index= False).sum()\n",
        "training_data_new"
      ],
      "execution_count": 8,
      "outputs": [
        {
          "output_type": "execute_result",
          "data": {
            "text/html": [
              "<div>\n",
              "<style scoped>\n",
              "    .dataframe tbody tr th:only-of-type {\n",
              "        vertical-align: middle;\n",
              "    }\n",
              "\n",
              "    .dataframe tbody tr th {\n",
              "        vertical-align: top;\n",
              "    }\n",
              "\n",
              "    .dataframe thead th {\n",
              "        text-align: right;\n",
              "    }\n",
              "</style>\n",
              "<table border=\"1\" class=\"dataframe\">\n",
              "  <thead>\n",
              "    <tr style=\"text-align: right;\">\n",
              "      <th></th>\n",
              "      <th>player</th>\n",
              "      <th>date</th>\n",
              "      <th>Total Points</th>\n",
              "      <th>match_id</th>\n",
              "    </tr>\n",
              "  </thead>\n",
              "  <tbody>\n",
              "    <tr>\n",
              "      <th>0</th>\n",
              "      <td>A Ashish Reddy</td>\n",
              "      <td>2012-01-05</td>\n",
              "      <td>25</td>\n",
              "      <td>348</td>\n",
              "    </tr>\n",
              "    <tr>\n",
              "      <th>1</th>\n",
              "      <td>A Ashish Reddy</td>\n",
              "      <td>2012-04-05</td>\n",
              "      <td>28</td>\n",
              "      <td>352</td>\n",
              "    </tr>\n",
              "    <tr>\n",
              "      <th>2</th>\n",
              "      <td>A Ashish Reddy</td>\n",
              "      <td>2012-04-26</td>\n",
              "      <td>50</td>\n",
              "      <td>341</td>\n",
              "    </tr>\n",
              "    <tr>\n",
              "      <th>3</th>\n",
              "      <td>A Ashish Reddy</td>\n",
              "      <td>2012-04-29</td>\n",
              "      <td>38</td>\n",
              "      <td>346</td>\n",
              "    </tr>\n",
              "    <tr>\n",
              "      <th>4</th>\n",
              "      <td>A Ashish Reddy</td>\n",
              "      <td>2012-05-18</td>\n",
              "      <td>12</td>\n",
              "      <td>373</td>\n",
              "    </tr>\n",
              "    <tr>\n",
              "      <th>...</th>\n",
              "      <td>...</td>\n",
              "      <td>...</td>\n",
              "      <td>...</td>\n",
              "      <td>...</td>\n",
              "    </tr>\n",
              "    <tr>\n",
              "      <th>15911</th>\n",
              "      <td>Z Khan</td>\n",
              "      <td>2017-06-05</td>\n",
              "      <td>2</td>\n",
              "      <td>44</td>\n",
              "    </tr>\n",
              "    <tr>\n",
              "      <th>15912</th>\n",
              "      <td>Z Khan</td>\n",
              "      <td>2017-08-04</td>\n",
              "      <td>51</td>\n",
              "      <td>5</td>\n",
              "    </tr>\n",
              "    <tr>\n",
              "      <th>15913</th>\n",
              "      <td>Z Khan</td>\n",
              "      <td>2017-10-05</td>\n",
              "      <td>0</td>\n",
              "      <td>49</td>\n",
              "    </tr>\n",
              "    <tr>\n",
              "      <th>15914</th>\n",
              "      <td>Z Khan</td>\n",
              "      <td>2017-11-04</td>\n",
              "      <td>75</td>\n",
              "      <td>9</td>\n",
              "    </tr>\n",
              "    <tr>\n",
              "      <th>15915</th>\n",
              "      <td>Z Khan</td>\n",
              "      <td>2017-12-05</td>\n",
              "      <td>50</td>\n",
              "      <td>51</td>\n",
              "    </tr>\n",
              "  </tbody>\n",
              "</table>\n",
              "<p>15916 rows × 4 columns</p>\n",
              "</div>"
            ],
            "text/plain": [
              "               player       date  Total Points  match_id\n",
              "0      A Ashish Reddy 2012-01-05            25       348\n",
              "1      A Ashish Reddy 2012-04-05            28       352\n",
              "2      A Ashish Reddy 2012-04-26            50       341\n",
              "3      A Ashish Reddy 2012-04-29            38       346\n",
              "4      A Ashish Reddy 2012-05-18            12       373\n",
              "...               ...        ...           ...       ...\n",
              "15911          Z Khan 2017-06-05             2        44\n",
              "15912          Z Khan 2017-08-04            51         5\n",
              "15913          Z Khan 2017-10-05             0        49\n",
              "15914          Z Khan 2017-11-04            75         9\n",
              "15915          Z Khan 2017-12-05            50        51\n",
              "\n",
              "[15916 rows x 4 columns]"
            ]
          },
          "metadata": {
            "tags": []
          },
          "execution_count": 8
        }
      ]
    },
    {
      "cell_type": "markdown",
      "metadata": {
        "papermill": {
          "duration": 0.029611,
          "end_time": "2021-02-11T12:20:00.676130",
          "exception": false,
          "start_time": "2021-02-11T12:20:00.646519",
          "status": "completed"
        },
        "tags": [],
        "id": "BABPJcq_rT-t"
      },
      "source": [
        "**Importing the required Libraries.**"
      ]
    },
    {
      "cell_type": "code",
      "metadata": {
        "execution": {
          "iopub.execute_input": "2021-02-11T12:20:00.742583Z",
          "iopub.status.busy": "2021-02-11T12:20:00.741729Z",
          "iopub.status.idle": "2021-02-11T12:20:02.598346Z",
          "shell.execute_reply": "2021-02-11T12:20:02.597162Z"
        },
        "papermill": {
          "duration": 1.892214,
          "end_time": "2021-02-11T12:20:02.598617",
          "exception": false,
          "start_time": "2021-02-11T12:20:00.706403",
          "status": "completed"
        },
        "tags": [],
        "id": "SA2YH6jPrT-u"
      },
      "source": [
        "from sklearn.model_selection import train_test_split\n",
        "from sklearn.linear_model import LinearRegression\n",
        "from sklearn.metrics import mean_squared_error\n",
        "from sklearn import metrics\n",
        "from sklearn.ensemble import RandomForestRegressor\n",
        "import xgboost\n",
        "from sklearn.svm import SVR\n",
        "from sklearn.ensemble import StackingRegressor\n",
        "from sklearn.linear_model import Lasso"
      ],
      "execution_count": 18,
      "outputs": []
    },
    {
      "cell_type": "markdown",
      "metadata": {
        "papermill": {
          "duration": 0.031136,
          "end_time": "2021-02-11T12:20:02.664549",
          "exception": false,
          "start_time": "2021-02-11T12:20:02.633413",
          "status": "completed"
        },
        "tags": [],
        "id": "dPTgUYT6rT-u"
      },
      "source": [
        "**Picking a single player to predict what will be their last 20 matches performance will be based on their previous matches. For that we going to make supervised data for the model. We know that players form can be known from last couple of matches. Here, I take last 3 matches played by Suresh Raina as the features and 4th match as the response variable.**"
      ]
    },
    {
      "cell_type": "code",
      "metadata": {
        "execution": {
          "iopub.execute_input": "2021-02-11T12:20:02.735647Z",
          "iopub.status.busy": "2021-02-11T12:20:02.731947Z",
          "iopub.status.idle": "2021-02-11T12:20:02.779475Z",
          "shell.execute_reply": "2021-02-11T12:20:02.779966Z"
        },
        "papermill": {
          "duration": 0.086864,
          "end_time": "2021-02-11T12:20:02.780161",
          "exception": false,
          "start_time": "2021-02-11T12:20:02.693297",
          "status": "completed"
        },
        "tags": [],
        "colab": {
          "base_uri": "https://localhost:8080/",
          "height": 419
        },
        "id": "j0e6BJ5prT-u",
        "outputId": "ee4dbdf1-0886-446e-d83e-6d7f0a636478"
      },
      "source": [
        "name = [\"SK Raina\"]\n",
        "player_wise_data = pd.DataFrame()\n",
        "player_wise_data[\"player\"] = name\n",
        "player_wise_data = player_wise_data.merge(training_data_new,on = \"player\", how = \"inner\")\n",
        "#if player_wise_data.count()[0] >= 15:\n",
        "player_wise_data_features = pd.DataFrame()\n",
        "player_wise_data_features[\"feature_1\"] = player_wise_data[\"Total Points\"].shift(3)\n",
        "player_wise_data_features[\"feature_2\"] = player_wise_data[\"Total Points\"].shift(2)\n",
        "player_wise_data_features[\"feature_3\"] = player_wise_data[\"Total Points\"].shift(1)\n",
        "player_wise_data_features[\"response\"] =  player_wise_data[\"Total Points\"]\n",
        "player_wise_data_features = player_wise_data_features.dropna()\n",
        "player_wise_data_features = player_wise_data_features.reset_index(drop= True)\n",
        "player_wise_data_features"
      ],
      "execution_count": 19,
      "outputs": [
        {
          "output_type": "execute_result",
          "data": {
            "text/html": [
              "<div>\n",
              "<style scoped>\n",
              "    .dataframe tbody tr th:only-of-type {\n",
              "        vertical-align: middle;\n",
              "    }\n",
              "\n",
              "    .dataframe tbody tr th {\n",
              "        vertical-align: top;\n",
              "    }\n",
              "\n",
              "    .dataframe thead th {\n",
              "        text-align: right;\n",
              "    }\n",
              "</style>\n",
              "<table border=\"1\" class=\"dataframe\">\n",
              "  <thead>\n",
              "    <tr style=\"text-align: right;\">\n",
              "      <th></th>\n",
              "      <th>feature_1</th>\n",
              "      <th>feature_2</th>\n",
              "      <th>feature_3</th>\n",
              "      <th>response</th>\n",
              "    </tr>\n",
              "  </thead>\n",
              "  <tbody>\n",
              "    <tr>\n",
              "      <th>0</th>\n",
              "      <td>50.0</td>\n",
              "      <td>3.0</td>\n",
              "      <td>29.0</td>\n",
              "      <td>43</td>\n",
              "    </tr>\n",
              "    <tr>\n",
              "      <th>1</th>\n",
              "      <td>3.0</td>\n",
              "      <td>29.0</td>\n",
              "      <td>43.0</td>\n",
              "      <td>73</td>\n",
              "    </tr>\n",
              "    <tr>\n",
              "      <th>2</th>\n",
              "      <td>29.0</td>\n",
              "      <td>43.0</td>\n",
              "      <td>73.0</td>\n",
              "      <td>35</td>\n",
              "    </tr>\n",
              "    <tr>\n",
              "      <th>3</th>\n",
              "      <td>43.0</td>\n",
              "      <td>73.0</td>\n",
              "      <td>35.0</td>\n",
              "      <td>1</td>\n",
              "    </tr>\n",
              "    <tr>\n",
              "      <th>4</th>\n",
              "      <td>73.0</td>\n",
              "      <td>35.0</td>\n",
              "      <td>1.0</td>\n",
              "      <td>23</td>\n",
              "    </tr>\n",
              "    <tr>\n",
              "      <th>...</th>\n",
              "      <td>...</td>\n",
              "      <td>...</td>\n",
              "      <td>...</td>\n",
              "      <td>...</td>\n",
              "    </tr>\n",
              "    <tr>\n",
              "      <th>181</th>\n",
              "      <td>2.0</td>\n",
              "      <td>72.0</td>\n",
              "      <td>19.0</td>\n",
              "      <td>7</td>\n",
              "    </tr>\n",
              "    <tr>\n",
              "      <th>182</th>\n",
              "      <td>72.0</td>\n",
              "      <td>19.0</td>\n",
              "      <td>7.0</td>\n",
              "      <td>19</td>\n",
              "    </tr>\n",
              "    <tr>\n",
              "      <th>183</th>\n",
              "      <td>19.0</td>\n",
              "      <td>7.0</td>\n",
              "      <td>19.0</td>\n",
              "      <td>11</td>\n",
              "    </tr>\n",
              "    <tr>\n",
              "      <th>184</th>\n",
              "      <td>7.0</td>\n",
              "      <td>19.0</td>\n",
              "      <td>11.0</td>\n",
              "      <td>5</td>\n",
              "    </tr>\n",
              "    <tr>\n",
              "      <th>185</th>\n",
              "      <td>19.0</td>\n",
              "      <td>11.0</td>\n",
              "      <td>5.0</td>\n",
              "      <td>9</td>\n",
              "    </tr>\n",
              "  </tbody>\n",
              "</table>\n",
              "<p>186 rows × 4 columns</p>\n",
              "</div>"
            ],
            "text/plain": [
              "     feature_1  feature_2  feature_3  response\n",
              "0         50.0        3.0       29.0        43\n",
              "1          3.0       29.0       43.0        73\n",
              "2         29.0       43.0       73.0        35\n",
              "3         43.0       73.0       35.0         1\n",
              "4         73.0       35.0        1.0        23\n",
              "..         ...        ...        ...       ...\n",
              "181        2.0       72.0       19.0         7\n",
              "182       72.0       19.0        7.0        19\n",
              "183       19.0        7.0       19.0        11\n",
              "184        7.0       19.0       11.0         5\n",
              "185       19.0       11.0        5.0         9\n",
              "\n",
              "[186 rows x 4 columns]"
            ]
          },
          "metadata": {
            "tags": []
          },
          "execution_count": 19
        }
      ]
    },
    {
      "cell_type": "code",
      "metadata": {
        "id": "d6q3_2uRrte-"
      },
      "source": [
        "def get_stacking():\n",
        "    # define the base models\n",
        "    level0 = list()\n",
        "    level0.append(('XGB', xgboost.XGBRegressor(verbosity=0)))\n",
        "    level0.append(('RF', RandomForestRegressor()))\n",
        "    level0.append(('svr', SVR()))\n",
        "    level0.append(('lasso', Lasso(alpha=0.05)))\n",
        "    # define meta learner model\n",
        "    level1 = LinearRegression()\n",
        "    # define the stacking ensemble\n",
        "    s_model = StackingRegressor(estimators=level0, final_estimator=level1, cv=5)\n",
        "    return s_model"
      ],
      "execution_count": 33,
      "outputs": []
    },
    {
      "cell_type": "markdown",
      "metadata": {
        "papermill": {
          "duration": 0.029175,
          "end_time": "2021-02-11T12:20:02.839317",
          "exception": false,
          "start_time": "2021-02-11T12:20:02.810142",
          "status": "completed"
        },
        "tags": [],
        "id": "PiScD-_RrT-v"
      },
      "source": [
        "**Starting with Linear Regression**"
      ]
    },
    {
      "cell_type": "code",
      "metadata": {
        "execution": {
          "iopub.execute_input": "2021-02-11T12:20:02.902847Z",
          "iopub.status.busy": "2021-02-11T12:20:02.901939Z",
          "iopub.status.idle": "2021-02-11T12:20:02.935097Z",
          "shell.execute_reply": "2021-02-11T12:20:02.934415Z"
        },
        "papermill": {
          "duration": 0.065972,
          "end_time": "2021-02-11T12:20:02.935293",
          "exception": false,
          "start_time": "2021-02-11T12:20:02.869321",
          "status": "completed"
        },
        "tags": [],
        "colab": {
          "base_uri": "https://localhost:8080/"
        },
        "id": "yv5cfMdPrT-v",
        "outputId": "08b5baef-00dd-4557-9d7e-56ec1efe57bd"
      },
      "source": [
        "model1 = LinearRegression().fit(player_wise_data_features.iloc[0:165,0:3],player_wise_data_features.iloc[0:165,3])\n",
        "y_hat1 = model1.predict(player_wise_data_features.iloc[165:,0:3]).astype(int)\n",
        "print('RMSE:',np.sqrt(metrics.mean_squared_error(player_wise_data_features.iloc[165:,3],y_hat1)))"
      ],
      "execution_count": 21,
      "outputs": [
        {
          "output_type": "stream",
          "text": [
            "RMSE: 28.650604581005666\n"
          ],
          "name": "stdout"
        }
      ]
    },
    {
      "cell_type": "markdown",
      "metadata": {
        "papermill": {
          "duration": 0.031092,
          "end_time": "2021-02-11T12:20:02.997852",
          "exception": false,
          "start_time": "2021-02-11T12:20:02.966760",
          "status": "completed"
        },
        "tags": [],
        "id": "nVeI7CfWrT-v"
      },
      "source": [
        "**Random Forest**"
      ]
    },
    {
      "cell_type": "code",
      "metadata": {
        "execution": {
          "iopub.execute_input": "2021-02-11T12:20:03.103304Z",
          "iopub.status.busy": "2021-02-11T12:20:03.087801Z",
          "iopub.status.idle": "2021-02-11T12:20:03.283633Z",
          "shell.execute_reply": "2021-02-11T12:20:03.284253Z"
        },
        "papermill": {
          "duration": 0.254946,
          "end_time": "2021-02-11T12:20:03.284470",
          "exception": false,
          "start_time": "2021-02-11T12:20:03.029524",
          "status": "completed"
        },
        "tags": [],
        "colab": {
          "base_uri": "https://localhost:8080/"
        },
        "id": "OPvoSi-4rT-w",
        "outputId": "751d3daa-8aa4-4e6d-bacf-651bf03bb4f4"
      },
      "source": [
        "model2 = RandomForestRegressor().fit(player_wise_data_features.iloc[0:165,0:3],player_wise_data_features.iloc[0:165,3])\n",
        "y_hat2 = model2.predict(player_wise_data_features.iloc[165:,0:3]).astype(int)\n",
        "print('RMSE:',np.sqrt(metrics.mean_squared_error(player_wise_data_features.iloc[165:,3],y_hat2)))"
      ],
      "execution_count": 25,
      "outputs": [
        {
          "output_type": "stream",
          "text": [
            "RMSE: 30.422422808248022\n"
          ],
          "name": "stdout"
        }
      ]
    },
    {
      "cell_type": "markdown",
      "metadata": {
        "papermill": {
          "duration": 0.033671,
          "end_time": "2021-02-11T12:20:03.349395",
          "exception": false,
          "start_time": "2021-02-11T12:20:03.315724",
          "status": "completed"
        },
        "tags": [],
        "id": "z0aJNhyErT-w"
      },
      "source": [
        "**XGBoost**"
      ]
    },
    {
      "cell_type": "code",
      "metadata": {
        "execution": {
          "iopub.execute_input": "2021-02-11T12:20:03.422879Z",
          "iopub.status.busy": "2021-02-11T12:20:03.422144Z",
          "iopub.status.idle": "2021-02-11T12:20:03.519111Z",
          "shell.execute_reply": "2021-02-11T12:20:03.519722Z"
        },
        "papermill": {
          "duration": 0.137438,
          "end_time": "2021-02-11T12:20:03.519999",
          "exception": false,
          "start_time": "2021-02-11T12:20:03.382561",
          "status": "completed"
        },
        "tags": [],
        "colab": {
          "base_uri": "https://localhost:8080/"
        },
        "id": "IOe-Vq9vrT-w",
        "outputId": "4b6aac3b-2602-47ba-c16d-d0d7de77d05d"
      },
      "source": [
        "model3 = xgboost.XGBRegressor(verbosity=0).fit(player_wise_data_features.iloc[0:165,0:3],player_wise_data_features.iloc[0:165,3])\n",
        "y_hat3 = model3.predict(player_wise_data_features.iloc[165:,0:3]).astype(int)\n",
        "print('RMSE:',np.sqrt(metrics.mean_squared_error(player_wise_data_features.iloc[165:,3],y_hat3)))"
      ],
      "execution_count": 29,
      "outputs": [
        {
          "output_type": "stream",
          "text": [
            "RMSE: 32.282237486625014\n"
          ],
          "name": "stdout"
        }
      ]
    },
    {
      "cell_type": "markdown",
      "metadata": {
        "papermill": {
          "duration": 0.032423,
          "end_time": "2021-02-11T12:20:03.585902",
          "exception": false,
          "start_time": "2021-02-11T12:20:03.553479",
          "status": "completed"
        },
        "tags": [],
        "id": "QPIcmOblrT-x"
      },
      "source": [
        "**Support Vector Regressor**"
      ]
    },
    {
      "cell_type": "code",
      "metadata": {
        "execution": {
          "iopub.execute_input": "2021-02-11T12:20:03.661837Z",
          "iopub.status.busy": "2021-02-11T12:20:03.661063Z",
          "iopub.status.idle": "2021-02-11T12:20:03.672434Z",
          "shell.execute_reply": "2021-02-11T12:20:03.672986Z"
        },
        "papermill": {
          "duration": 0.05507,
          "end_time": "2021-02-11T12:20:03.673202",
          "exception": false,
          "start_time": "2021-02-11T12:20:03.618132",
          "status": "completed"
        },
        "tags": [],
        "colab": {
          "base_uri": "https://localhost:8080/"
        },
        "id": "n4VlDFH3rT-x",
        "outputId": "a4179bb1-0f47-443e-e573-8109eec7b2e0"
      },
      "source": [
        "model4 = SVR().fit(player_wise_data_features.iloc[0:165,0:3],player_wise_data_features.iloc[0:165,3])\n",
        "y_hat4 = model4.predict(player_wise_data_features.iloc[165:,0:3]).astype(int)\n",
        "print('RMSE:',np.sqrt(metrics.mean_squared_error(player_wise_data_features.iloc[165:,3],y_hat4)))"
      ],
      "execution_count": 31,
      "outputs": [
        {
          "output_type": "stream",
          "text": [
            "RMSE: 26.25878537792275\n"
          ],
          "name": "stdout"
        }
      ]
    },
    {
      "cell_type": "markdown",
      "metadata": {
        "papermill": {
          "duration": 0.031835,
          "end_time": "2021-02-11T12:20:03.737591",
          "exception": false,
          "start_time": "2021-02-11T12:20:03.705756",
          "status": "completed"
        },
        "tags": [],
        "id": "ZzRDgB4hrT-x"
      },
      "source": [
        "**Stacking Ensemble**"
      ]
    },
    {
      "cell_type": "code",
      "metadata": {
        "execution": {
          "iopub.execute_input": "2021-02-11T12:20:03.805519Z",
          "iopub.status.busy": "2021-02-11T12:20:03.804924Z",
          "iopub.status.idle": "2021-02-11T12:20:03.886315Z",
          "shell.execute_reply": "2021-02-11T12:20:03.886890Z"
        },
        "papermill": {
          "duration": 0.117433,
          "end_time": "2021-02-11T12:20:03.887112",
          "exception": false,
          "start_time": "2021-02-11T12:20:03.769679",
          "status": "completed"
        },
        "tags": [],
        "colab": {
          "base_uri": "https://localhost:8080/"
        },
        "id": "r9FT38QKrT-y",
        "outputId": "afbad39e-0e28-4059-d872-e2d6d9385173"
      },
      "source": [
        "model5 = get_stacking().fit(player_wise_data_features.iloc[0:165,0:3],player_wise_data_features.iloc[0:165,3])\n",
        "y_hat5 = model5.predict(player_wise_data_features.iloc[165:,0:3]).astype(int)\n",
        "print('RMSE:',np.sqrt(metrics.mean_squared_error(player_wise_data_features.iloc[165:,3],y_hat5)))"
      ],
      "execution_count": 34,
      "outputs": [
        {
          "output_type": "stream",
          "text": [
            "RMSE: 29.897443751216304\n"
          ],
          "name": "stdout"
        }
      ]
    },
    {
      "cell_type": "markdown",
      "metadata": {
        "papermill": {
          "duration": 0.031758,
          "end_time": "2021-02-11T12:20:03.951843",
          "exception": false,
          "start_time": "2021-02-11T12:20:03.920085",
          "status": "completed"
        },
        "tags": [],
        "id": "nl3499D6rT-y"
      },
      "source": [
        "**Lasso**"
      ]
    },
    {
      "cell_type": "code",
      "metadata": {
        "execution": {
          "iopub.execute_input": "2021-02-11T12:20:04.019838Z",
          "iopub.status.busy": "2021-02-11T12:20:04.019206Z",
          "iopub.status.idle": "2021-02-11T12:20:04.038140Z",
          "shell.execute_reply": "2021-02-11T12:20:04.037413Z"
        },
        "papermill": {
          "duration": 0.054421,
          "end_time": "2021-02-11T12:20:04.038296",
          "exception": false,
          "start_time": "2021-02-11T12:20:03.983875",
          "status": "completed"
        },
        "tags": [],
        "colab": {
          "base_uri": "https://localhost:8080/"
        },
        "id": "P5I5HXG2rT-z",
        "outputId": "147a9264-11eb-4967-cba0-9d1000408097"
      },
      "source": [
        "model6 = Lasso(alpha=0.05).fit(player_wise_data_features.iloc[0:165,0:3],player_wise_data_features.iloc[0:165,3])\n",
        "y_hat6 = model6.predict(player_wise_data_features.iloc[165:,0:3]).astype(int) \n",
        "print('RMSE:',np.sqrt(metrics.mean_squared_error(player_wise_data_features.iloc[165:,3],y_hat6)))"
      ],
      "execution_count": 35,
      "outputs": [
        {
          "output_type": "stream",
          "text": [
            "RMSE: 28.650604581005666\n"
          ],
          "name": "stdout"
        }
      ]
    },
    {
      "cell_type": "markdown",
      "metadata": {
        "papermill": {
          "duration": 0.032713,
          "end_time": "2021-02-11T12:20:04.103950",
          "exception": false,
          "start_time": "2021-02-11T12:20:04.071237",
          "status": "completed"
        },
        "tags": [],
        "id": "EehFMFySrT-z"
      },
      "source": [
        "**After performing well with single player now I will now predict the last match played by every player. As there is no data for the new players, I would simply take the average of the last few matches played by the new players and assigning 0 to the debutants.**"
      ]
    },
    {
      "cell_type": "code",
      "metadata": {
        "execution": {
          "iopub.execute_input": "2021-02-11T12:20:04.249386Z",
          "iopub.status.busy": "2021-02-11T12:20:04.248692Z",
          "iopub.status.idle": "2021-02-11T12:20:04.265012Z",
          "shell.execute_reply": "2021-02-11T12:20:04.265506Z"
        },
        "papermill": {
          "duration": 0.053193,
          "end_time": "2021-02-11T12:20:04.265696",
          "exception": false,
          "start_time": "2021-02-11T12:20:04.212503",
          "status": "completed"
        },
        "tags": [],
        "id": "z1vjzAMPrT-z"
      },
      "source": [
        "def future_values(name,model_num):\n",
        "    name = [name]\n",
        "    player_wise_data = pd.DataFrame()\n",
        "    player_wise_data[\"player\"] = name\n",
        "    player_wise_data = player_wise_data.merge(training_data_new,on = \"player\", how = \"inner\")\n",
        "    if player_wise_data.count()[0] > 15:\n",
        "        player_wise_data_features = pd.DataFrame()\n",
        "        player_wise_data_features[\"feature_1\"] = player_wise_data[\"Total Points\"].shift(3)\n",
        "        player_wise_data_features[\"feature_2\"] = player_wise_data[\"Total Points\"].shift(2)\n",
        "        player_wise_data_features[\"feature_3\"] = player_wise_data[\"Total Points\"].shift(1)\n",
        "        player_wise_data_features[\"response\"] =  player_wise_data[\"Total Points\"]\n",
        "        player_wise_data_features = player_wise_data_features.dropna()\n",
        "        player_wise_data_features = player_wise_data_features.reset_index(drop= True)\n",
        "        if model_num == 1:\n",
        "            model = LinearRegression().fit(player_wise_data_features.iloc[0:player_wise_data_features.shape[0]-1,0:3],player_wise_data_features.iloc[0:player_wise_data_features.shape[0]-1,3])\n",
        "        elif model_num == 2:\n",
        "            model = RandomForestRegressor().fit(player_wise_data_features.iloc[0:player_wise_data_features.shape[0]-1,0:3],player_wise_data_features.iloc[0:player_wise_data_features.shape[0]-1,3])\n",
        "        elif model_num == 3:\n",
        "            model = SVR().fit(player_wise_data_features.iloc[0:player_wise_data_features.shape[0]-1,0:3],player_wise_data_features.iloc[0:player_wise_data_features.shape[0]-1,3])\n",
        "        elif model_num == 4:\n",
        "            model = xgboost.XGBRegressor(verbosity=0).fit(player_wise_data_features.iloc[0:player_wise_data_features.shape[0]-1,0:3],player_wise_data_features.iloc[0:player_wise_data_features.shape[0]-1,3])\n",
        "        elif model_num == 5:\n",
        "            model = Lasso(alpha=0.05).fit(player_wise_data_features.iloc[0:player_wise_data_features.shape[0]-1,0:3],player_wise_data_features.iloc[0:player_wise_data_features.shape[0]-1,3])\n",
        "        else:\n",
        "            model = get_stacking().fit(player_wise_data_features.iloc[0:player_wise_data_features.shape[0]-1,0:3],player_wise_data_features.iloc[0:player_wise_data_features.shape[0]-1,3])\n",
        "        y_hat = model.predict(player_wise_data_features.iloc[player_wise_data_features.shape[0]-1:,0:3]).astype(int)\n",
        "    else:\n",
        "        y_hat = player_wise_data[\"Total Points\"].mean()\n",
        "    if y_hat < -2:\n",
        "        y_hat = -2\n",
        "    return y_hat"
      ],
      "execution_count": 40,
      "outputs": []
    },
    {
      "cell_type": "code",
      "metadata": {
        "execution": {
          "iopub.execute_input": "2021-02-11T12:20:04.335417Z",
          "iopub.status.busy": "2021-02-11T12:20:04.334647Z",
          "iopub.status.idle": "2021-02-11T12:20:04.341252Z",
          "shell.execute_reply": "2021-02-11T12:20:04.341721Z"
        },
        "papermill": {
          "duration": 0.043352,
          "end_time": "2021-02-11T12:20:04.341933",
          "exception": false,
          "start_time": "2021-02-11T12:20:04.298581",
          "status": "completed"
        },
        "tags": [],
        "id": "6G1oOwgGrT-0"
      },
      "source": [
        "def model_selection(model_num):\n",
        "    response_fun = pd.DataFrame(columns = [\"y_pred\",\"y_test\"])\n",
        "    response_fun[\"player\"] = training_data_new[\"player\"].value_counts().index\n",
        "    response_fun.set_index(\"player\",inplace = True)\n",
        "    for name in response_fun.index:\n",
        "        response_fun.loc[name].y_pred = int(future_values(name,model_num))\n",
        "        response_fun.loc[name].y_test = int(training_data_new[\"Total Points\"][training_data_new[\"player\"] == name].iloc[-1:])\n",
        "    return response_fun    "
      ],
      "execution_count": 41,
      "outputs": []
    },
    {
      "cell_type": "markdown",
      "metadata": {
        "papermill": {
          "duration": 0.032879,
          "end_time": "2021-02-11T12:20:04.408175",
          "exception": false,
          "start_time": "2021-02-11T12:20:04.375296",
          "status": "completed"
        },
        "tags": [],
        "id": "CGzIUu4BrT-0"
      },
      "source": [
        "# Comparing predicted data and test data"
      ]
    },
    {
      "cell_type": "markdown",
      "metadata": {
        "papermill": {
          "duration": 0.033435,
          "end_time": "2021-02-11T12:20:04.475007",
          "exception": false,
          "start_time": "2021-02-11T12:20:04.441572",
          "status": "completed"
        },
        "tags": [],
        "id": "PbxVlHKmrT-0"
      },
      "source": [
        "**We could perform the analysis for the players who have played more than 15 matches as new players doesn't have a lot of data.\n",
        "If we use all data (including new players) then RMSE will be less as there are more than 50 players with only playing single match**"
      ]
    },
    {
      "cell_type": "code",
      "metadata": {
        "execution": {
          "iopub.execute_input": "2021-02-11T12:20:04.556595Z",
          "iopub.status.busy": "2021-02-11T12:20:04.544759Z",
          "iopub.status.idle": "2021-02-11T12:20:13.116022Z",
          "shell.execute_reply": "2021-02-11T12:20:13.114836Z"
        },
        "papermill": {
          "duration": 8.608166,
          "end_time": "2021-02-11T12:20:13.116267",
          "exception": false,
          "start_time": "2021-02-11T12:20:04.508101",
          "status": "completed"
        },
        "tags": [],
        "colab": {
          "base_uri": "https://localhost:8080/"
        },
        "id": "QpQc1ZMDrT-0",
        "outputId": "0fe948f9-c0cd-4be3-d4b9-fed6988750dc"
      },
      "source": [
        "#Using Support Vector Regressor\n",
        "response = model_selection(model_num=3)\n",
        "print(\"RMSE using Support Vector Regressor : \",np.sqrt(metrics.mean_squared_error(response.y_pred[0:253],response.y_test[0:253])))"
      ],
      "execution_count": 42,
      "outputs": [
        {
          "output_type": "stream",
          "text": [
            "RMSE using Support Vector Regressor :  25.840572320782925\n"
          ],
          "name": "stdout"
        }
      ]
    },
    {
      "cell_type": "code",
      "metadata": {
        "execution": {
          "iopub.execute_input": "2021-02-11T12:20:13.202466Z",
          "iopub.status.busy": "2021-02-11T12:20:13.198805Z",
          "iopub.status.idle": "2021-02-11T12:20:34.903311Z",
          "shell.execute_reply": "2021-02-11T12:20:34.903871Z"
        },
        "papermill": {
          "duration": 21.751858,
          "end_time": "2021-02-11T12:20:34.904101",
          "exception": false,
          "start_time": "2021-02-11T12:20:13.152243",
          "status": "completed"
        },
        "tags": [],
        "colab": {
          "base_uri": "https://localhost:8080/"
        },
        "id": "se6dH6RArT-1",
        "outputId": "aefb82c9-6a47-44c0-f398-afe251ace213"
      },
      "source": [
        "#Using XGBoost\n",
        "response = model_selection(model_num=4)\n",
        "print(\"RMSE using XGBoost : \",np.sqrt(metrics.mean_squared_error(response.y_pred[0:253],response.y_test[0:253])))"
      ],
      "execution_count": 43,
      "outputs": [
        {
          "output_type": "stream",
          "text": [
            "RMSE using XGBoost :  30.729085242517346\n"
          ],
          "name": "stdout"
        }
      ]
    },
    {
      "cell_type": "code",
      "metadata": {
        "execution": {
          "iopub.execute_input": "2021-02-11T12:20:34.978430Z",
          "iopub.status.busy": "2021-02-11T12:20:34.977722Z",
          "iopub.status.idle": "2021-02-11T12:21:28.066509Z",
          "shell.execute_reply": "2021-02-11T12:21:28.067044Z"
        },
        "papermill": {
          "duration": 53.12783,
          "end_time": "2021-02-11T12:21:28.067224",
          "exception": false,
          "start_time": "2021-02-11T12:20:34.939394",
          "status": "completed"
        },
        "tags": [],
        "colab": {
          "base_uri": "https://localhost:8080/"
        },
        "id": "AyQpDkiarT-1",
        "outputId": "87bbf1c3-c405-4961-cdf8-7d5741d6e4a7"
      },
      "source": [
        "#Using RandomForest\n",
        "response = model_selection(model_num=2)\n",
        "print(\"RMSE using RandomForest : \",np.sqrt(metrics.mean_squared_error(response.y_pred[0:253],response.y_test[0:253])))"
      ],
      "execution_count": 44,
      "outputs": [
        {
          "output_type": "stream",
          "text": [
            "RMSE using RandomForest :  28.34959620070598\n"
          ],
          "name": "stdout"
        }
      ]
    },
    {
      "cell_type": "code",
      "metadata": {
        "execution": {
          "iopub.execute_input": "2021-02-11T12:21:28.152117Z",
          "iopub.status.busy": "2021-02-11T12:21:28.147921Z",
          "iopub.status.idle": "2021-02-11T12:21:36.517720Z",
          "shell.execute_reply": "2021-02-11T12:21:36.518327Z"
        },
        "papermill": {
          "duration": 8.416492,
          "end_time": "2021-02-11T12:21:36.518517",
          "exception": false,
          "start_time": "2021-02-11T12:21:28.102025",
          "status": "completed"
        },
        "tags": [],
        "colab": {
          "base_uri": "https://localhost:8080/"
        },
        "id": "7iBgUgtvrT-1",
        "outputId": "ab5f395b-475a-4935-9cef-f581921efdd4"
      },
      "source": [
        "#Using Linear Regression\n",
        "response = model_selection(model_num=1)\n",
        "print(\"RMSE using Linear Regression : \",np.sqrt(metrics.mean_squared_error(response.y_pred[0:253],response.y_test[0:253])))"
      ],
      "execution_count": 45,
      "outputs": [
        {
          "output_type": "stream",
          "text": [
            "RMSE using Linear Regression :  26.350405566476326\n"
          ],
          "name": "stdout"
        }
      ]
    },
    {
      "cell_type": "code",
      "metadata": {
        "execution": {
          "iopub.execute_input": "2021-02-11T12:21:36.606366Z",
          "iopub.status.busy": "2021-02-11T12:21:36.601884Z",
          "iopub.status.idle": "2021-02-11T12:21:45.110241Z",
          "shell.execute_reply": "2021-02-11T12:21:45.110835Z"
        },
        "papermill": {
          "duration": 8.556989,
          "end_time": "2021-02-11T12:21:45.111064",
          "exception": false,
          "start_time": "2021-02-11T12:21:36.554075",
          "status": "completed"
        },
        "tags": [],
        "colab": {
          "base_uri": "https://localhost:8080/"
        },
        "id": "TxOqSVb3rT-1",
        "outputId": "ebd917c4-16dc-4234-90d3-ce64c26adc8e"
      },
      "source": [
        "#Using Lasso\n",
        "response = model_selection(model_num=5)\n",
        "print(\"RMSE using Lasso : \",np.sqrt(metrics.mean_squared_error(response.y_pred[0:253],response.y_test[0:253])))"
      ],
      "execution_count": 46,
      "outputs": [
        {
          "output_type": "stream",
          "text": [
            "RMSE using Lasso :  26.35370536682204\n"
          ],
          "name": "stdout"
        }
      ]
    },
    {
      "cell_type": "code",
      "metadata": {
        "execution": {
          "iopub.execute_input": "2021-02-11T12:21:45.197581Z",
          "iopub.status.busy": "2021-02-11T12:21:45.193901Z",
          "iopub.status.idle": "2021-02-11T12:27:57.518587Z",
          "shell.execute_reply": "2021-02-11T12:27:57.519110Z"
        },
        "papermill": {
          "duration": 372.372581,
          "end_time": "2021-02-11T12:27:57.519310",
          "exception": false,
          "start_time": "2021-02-11T12:21:45.146729",
          "status": "completed"
        },
        "tags": [],
        "colab": {
          "base_uri": "https://localhost:8080/"
        },
        "id": "t4GpRC6TrT-2",
        "outputId": "62610f67-bd0d-4bd6-952f-2105b9a1f2d8"
      },
      "source": [
        "#Using Stacking\n",
        "response = model_selection(model_num=6)\n",
        "print(\"RMSE using Stacking : \",np.sqrt(metrics.mean_squared_error(response.y_pred[0:253],response.y_test[0:253])))"
      ],
      "execution_count": 47,
      "outputs": [
        {
          "output_type": "stream",
          "text": [
            "RMSE using Stacking :  28.069647991022634\n"
          ],
          "name": "stdout"
        }
      ]
    },
    {
      "cell_type": "markdown",
      "metadata": {
        "papermill": {
          "duration": 0.035823,
          "end_time": "2021-02-11T12:27:57.590702",
          "exception": false,
          "start_time": "2021-02-11T12:27:57.554879",
          "status": "completed"
        },
        "tags": [],
        "id": "9KhhtjgyrT-2"
      },
      "source": [
        "# Predicting IPL 2020 player performance"
      ]
    },
    {
      "cell_type": "markdown",
      "metadata": {
        "papermill": {
          "duration": 0.037149,
          "end_time": "2021-02-11T12:27:57.663642",
          "exception": false,
          "start_time": "2021-02-11T12:27:57.626493",
          "status": "completed"
        },
        "tags": [],
        "id": "BsAo7ZEerT-2"
      },
      "source": [
        "**Removing Duplicate KD Karthik and Spliting Match Id and Player Name and adding Date column for sorting in chronological order.**"
      ]
    },
    {
      "cell_type": "code",
      "metadata": {
        "execution": {
          "iopub.execute_input": "2021-02-11T12:27:57.744990Z",
          "iopub.status.busy": "2021-02-11T12:27:57.744257Z",
          "iopub.status.idle": "2021-02-11T12:27:57.770171Z",
          "shell.execute_reply": "2021-02-11T12:27:57.769598Z"
        },
        "papermill": {
          "duration": 0.070497,
          "end_time": "2021-02-11T12:27:57.770337",
          "exception": false,
          "start_time": "2021-02-11T12:27:57.699840",
          "status": "completed"
        },
        "tags": [],
        "id": "5PUOy9fSrT-2"
      },
      "source": [
        "submission = submission.drop(index=551).reset_index(drop= True)\n",
        "submission[\"match_id\"] = submission[\"Id\"].apply(lambda x: int(x.split(\"_\")[0]))\n",
        "submission[\"player\"] = submission[\"Id\"].apply(lambda x: x.split(\"_\")[1])\n",
        "current_data_date[\"date\"] = pd.to_datetime(current_data_date[\"date\"])\n",
        "submission = submission.merge(current_data_date.iloc[:,[0,2]],on = \"match_id\", how = \"left\")\n",
        "submission_new = submission.groupby([\"player\",\"date\"],axis = 0, as_index= False).sum()"
      ],
      "execution_count": null,
      "outputs": []
    },
    {
      "cell_type": "markdown",
      "metadata": {
        "papermill": {
          "duration": 0.035506,
          "end_time": "2021-02-11T12:27:57.841493",
          "exception": false,
          "start_time": "2021-02-11T12:27:57.805987",
          "status": "completed"
        },
        "tags": [],
        "id": "KgW8m-xQrT-3"
      },
      "source": [
        "**Removing NA values**"
      ]
    },
    {
      "cell_type": "code",
      "metadata": {
        "execution": {
          "iopub.execute_input": "2021-02-11T12:27:57.916302Z",
          "iopub.status.busy": "2021-02-11T12:27:57.915547Z",
          "iopub.status.idle": "2021-02-11T12:27:57.931257Z",
          "shell.execute_reply": "2021-02-11T12:27:57.930412Z"
        },
        "papermill": {
          "duration": 0.054514,
          "end_time": "2021-02-11T12:27:57.931443",
          "exception": false,
          "start_time": "2021-02-11T12:27:57.876929",
          "status": "completed"
        },
        "tags": [],
        "colab": {
          "base_uri": "https://localhost:8080/",
          "height": 419
        },
        "id": "w4FIhzMfrT-3",
        "outputId": "a7ab83bf-dc39-4ab2-e616-a1ee0142c798"
      },
      "source": [
        "submission_new = submission_new.iloc[0:1279,:]\n",
        "submission_new"
      ],
      "execution_count": 50,
      "outputs": [
        {
          "output_type": "execute_result",
          "data": {
            "text/html": [
              "<div>\n",
              "<style scoped>\n",
              "    .dataframe tbody tr th:only-of-type {\n",
              "        vertical-align: middle;\n",
              "    }\n",
              "\n",
              "    .dataframe tbody tr th {\n",
              "        vertical-align: top;\n",
              "    }\n",
              "\n",
              "    .dataframe thead th {\n",
              "        text-align: right;\n",
              "    }\n",
              "</style>\n",
              "<table border=\"1\" class=\"dataframe\">\n",
              "  <thead>\n",
              "    <tr style=\"text-align: right;\">\n",
              "      <th></th>\n",
              "      <th>player</th>\n",
              "      <th>date</th>\n",
              "      <th>Total Points</th>\n",
              "      <th>match_id</th>\n",
              "    </tr>\n",
              "  </thead>\n",
              "  <tbody>\n",
              "    <tr>\n",
              "      <th>0</th>\n",
              "      <td>A Mishra</td>\n",
              "      <td>2020-09-25</td>\n",
              "      <td>0</td>\n",
              "      <td>1216539</td>\n",
              "    </tr>\n",
              "    <tr>\n",
              "      <th>1</th>\n",
              "      <td>A Mishra</td>\n",
              "      <td>2020-09-29</td>\n",
              "      <td>0</td>\n",
              "      <td>1216532</td>\n",
              "    </tr>\n",
              "    <tr>\n",
              "      <th>2</th>\n",
              "      <td>A Mishra</td>\n",
              "      <td>2020-10-03</td>\n",
              "      <td>0</td>\n",
              "      <td>1216515</td>\n",
              "    </tr>\n",
              "    <tr>\n",
              "      <th>3</th>\n",
              "      <td>A Zampa</td>\n",
              "      <td>2020-09-28</td>\n",
              "      <td>0</td>\n",
              "      <td>1216547</td>\n",
              "    </tr>\n",
              "    <tr>\n",
              "      <th>4</th>\n",
              "      <td>A Zampa</td>\n",
              "      <td>2020-10-03</td>\n",
              "      <td>0</td>\n",
              "      <td>1216514</td>\n",
              "    </tr>\n",
              "    <tr>\n",
              "      <th>...</th>\n",
              "      <td>...</td>\n",
              "      <td>...</td>\n",
              "      <td>...</td>\n",
              "      <td>...</td>\n",
              "    </tr>\n",
              "    <tr>\n",
              "      <th>1274</th>\n",
              "      <td>YS Chahal</td>\n",
              "      <td>2020-10-25</td>\n",
              "      <td>0</td>\n",
              "      <td>1216544</td>\n",
              "    </tr>\n",
              "    <tr>\n",
              "      <th>1275</th>\n",
              "      <td>YS Chahal</td>\n",
              "      <td>2020-10-28</td>\n",
              "      <td>0</td>\n",
              "      <td>1216499</td>\n",
              "    </tr>\n",
              "    <tr>\n",
              "      <th>1276</th>\n",
              "      <td>YS Chahal</td>\n",
              "      <td>2020-10-31</td>\n",
              "      <td>0</td>\n",
              "      <td>1216502</td>\n",
              "    </tr>\n",
              "    <tr>\n",
              "      <th>1277</th>\n",
              "      <td>YS Chahal</td>\n",
              "      <td>2020-11-02</td>\n",
              "      <td>0</td>\n",
              "      <td>1216505</td>\n",
              "    </tr>\n",
              "    <tr>\n",
              "      <th>1278</th>\n",
              "      <td>YS Chahal</td>\n",
              "      <td>2020-11-06</td>\n",
              "      <td>0</td>\n",
              "      <td>1237178</td>\n",
              "    </tr>\n",
              "  </tbody>\n",
              "</table>\n",
              "<p>1279 rows × 4 columns</p>\n",
              "</div>"
            ],
            "text/plain": [
              "         player       date  Total Points  match_id\n",
              "0      A Mishra 2020-09-25             0   1216539\n",
              "1      A Mishra 2020-09-29             0   1216532\n",
              "2      A Mishra 2020-10-03             0   1216515\n",
              "3       A Zampa 2020-09-28             0   1216547\n",
              "4       A Zampa 2020-10-03             0   1216514\n",
              "...         ...        ...           ...       ...\n",
              "1274  YS Chahal 2020-10-25             0   1216544\n",
              "1275  YS Chahal 2020-10-28             0   1216499\n",
              "1276  YS Chahal 2020-10-31             0   1216502\n",
              "1277  YS Chahal 2020-11-02             0   1216505\n",
              "1278  YS Chahal 2020-11-06             0   1237178\n",
              "\n",
              "[1279 rows x 4 columns]"
            ]
          },
          "metadata": {
            "tags": []
          },
          "execution_count": 50
        }
      ]
    },
    {
      "cell_type": "markdown",
      "metadata": {
        "papermill": {
          "duration": 0.036344,
          "end_time": "2021-02-11T12:27:58.006954",
          "exception": false,
          "start_time": "2021-02-11T12:27:57.970610",
          "status": "completed"
        },
        "tags": [],
        "id": "0AJYM7pqrT-3"
      },
      "source": [
        "**Predicting Players performance match by match and adding the latest data in the training data for the next prediction.**"
      ]
    },
    {
      "cell_type": "code",
      "metadata": {
        "collapsed": true,
        "execution": {
          "iopub.execute_input": "2021-02-11T12:27:58.088347Z",
          "iopub.status.busy": "2021-02-11T12:27:58.087567Z",
          "iopub.status.idle": "2021-02-11T12:52:50.837609Z",
          "shell.execute_reply": "2021-02-11T12:52:50.836763Z"
        },
        "papermill": {
          "duration": 1492.794555,
          "end_time": "2021-02-11T12:52:50.837846",
          "exception": false,
          "start_time": "2021-02-11T12:27:58.043291",
          "status": "completed"
        },
        "tags": [],
        "id": "Ahdf1TmZrT-3"
      },
      "source": [
        "for i in range(0,submission_new.shape[0]):\n",
        "    name = submission_new[\"player\"][i]\n",
        "    date = submission_new[\"date\"][i]\n",
        "    training_data_new.loc[training_data_new.shape[0]] = [name, date, 0, 1111]\n",
        "    submission_new.loc[i,\"Total Points\"] = int(future_values(name,model_num=6))\n",
        "    training_data_new.loc[training_data_new.shape[0]-1,\"Total Points\"] = submission_new[\"Total Points\"][i]"
      ],
      "execution_count": 51,
      "outputs": []
    },
    {
      "cell_type": "markdown",
      "metadata": {
        "papermill": {
          "duration": 0.041645,
          "end_time": "2021-02-11T12:52:50.921362",
          "exception": false,
          "start_time": "2021-02-11T12:52:50.879717",
          "status": "completed"
        },
        "tags": [],
        "id": "NojlmRmjrT-4"
      },
      "source": [
        "**Result**"
      ]
    },
    {
      "cell_type": "code",
      "metadata": {
        "execution": {
          "iopub.execute_input": "2021-02-11T12:52:51.019652Z",
          "iopub.status.busy": "2021-02-11T12:52:51.018902Z",
          "iopub.status.idle": "2021-02-11T12:52:51.024484Z",
          "shell.execute_reply": "2021-02-11T12:52:51.023941Z"
        },
        "papermill": {
          "duration": 0.06278,
          "end_time": "2021-02-11T12:52:51.024631",
          "exception": false,
          "start_time": "2021-02-11T12:52:50.961851",
          "status": "completed"
        },
        "tags": [],
        "id": "tF0dTHSqrT-4",
        "outputId": "23c8861b-6fe4-4222-81da-6cb86e55ca26"
      },
      "source": [
        "submission_new"
      ],
      "execution_count": null,
      "outputs": [
        {
          "output_type": "execute_result",
          "data": {
            "text/html": [
              "<div>\n",
              "<style scoped>\n",
              "    .dataframe tbody tr th:only-of-type {\n",
              "        vertical-align: middle;\n",
              "    }\n",
              "\n",
              "    .dataframe tbody tr th {\n",
              "        vertical-align: top;\n",
              "    }\n",
              "\n",
              "    .dataframe thead th {\n",
              "        text-align: right;\n",
              "    }\n",
              "</style>\n",
              "<table border=\"1\" class=\"dataframe\">\n",
              "  <thead>\n",
              "    <tr style=\"text-align: right;\">\n",
              "      <th></th>\n",
              "      <th>player</th>\n",
              "      <th>date</th>\n",
              "      <th>Total Points</th>\n",
              "      <th>match_id</th>\n",
              "    </tr>\n",
              "  </thead>\n",
              "  <tbody>\n",
              "    <tr>\n",
              "      <th>0</th>\n",
              "      <td>A Mishra</td>\n",
              "      <td>2020-09-25</td>\n",
              "      <td>28</td>\n",
              "      <td>1216539</td>\n",
              "    </tr>\n",
              "    <tr>\n",
              "      <th>1</th>\n",
              "      <td>A Mishra</td>\n",
              "      <td>2020-09-29</td>\n",
              "      <td>33</td>\n",
              "      <td>1216532</td>\n",
              "    </tr>\n",
              "    <tr>\n",
              "      <th>2</th>\n",
              "      <td>A Mishra</td>\n",
              "      <td>2020-10-03</td>\n",
              "      <td>25</td>\n",
              "      <td>1216515</td>\n",
              "    </tr>\n",
              "    <tr>\n",
              "      <th>3</th>\n",
              "      <td>A Zampa</td>\n",
              "      <td>2020-09-28</td>\n",
              "      <td>41</td>\n",
              "      <td>1216547</td>\n",
              "    </tr>\n",
              "    <tr>\n",
              "      <th>4</th>\n",
              "      <td>A Zampa</td>\n",
              "      <td>2020-10-03</td>\n",
              "      <td>41</td>\n",
              "      <td>1216514</td>\n",
              "    </tr>\n",
              "    <tr>\n",
              "      <th>...</th>\n",
              "      <td>...</td>\n",
              "      <td>...</td>\n",
              "      <td>...</td>\n",
              "      <td>...</td>\n",
              "    </tr>\n",
              "    <tr>\n",
              "      <th>1274</th>\n",
              "      <td>YS Chahal</td>\n",
              "      <td>2020-10-25</td>\n",
              "      <td>32</td>\n",
              "      <td>1216544</td>\n",
              "    </tr>\n",
              "    <tr>\n",
              "      <th>1275</th>\n",
              "      <td>YS Chahal</td>\n",
              "      <td>2020-10-28</td>\n",
              "      <td>30</td>\n",
              "      <td>1216499</td>\n",
              "    </tr>\n",
              "    <tr>\n",
              "      <th>1276</th>\n",
              "      <td>YS Chahal</td>\n",
              "      <td>2020-10-31</td>\n",
              "      <td>30</td>\n",
              "      <td>1216502</td>\n",
              "    </tr>\n",
              "    <tr>\n",
              "      <th>1277</th>\n",
              "      <td>YS Chahal</td>\n",
              "      <td>2020-11-02</td>\n",
              "      <td>30</td>\n",
              "      <td>1216505</td>\n",
              "    </tr>\n",
              "    <tr>\n",
              "      <th>1278</th>\n",
              "      <td>YS Chahal</td>\n",
              "      <td>2020-11-06</td>\n",
              "      <td>29</td>\n",
              "      <td>1237178</td>\n",
              "    </tr>\n",
              "  </tbody>\n",
              "</table>\n",
              "<p>1279 rows × 4 columns</p>\n",
              "</div>"
            ],
            "text/plain": [
              "         player       date  Total Points  match_id\n",
              "0      A Mishra 2020-09-25            28   1216539\n",
              "1      A Mishra 2020-09-29            33   1216532\n",
              "2      A Mishra 2020-10-03            25   1216515\n",
              "3       A Zampa 2020-09-28            41   1216547\n",
              "4       A Zampa 2020-10-03            41   1216514\n",
              "...         ...        ...           ...       ...\n",
              "1274  YS Chahal 2020-10-25            32   1216544\n",
              "1275  YS Chahal 2020-10-28            30   1216499\n",
              "1276  YS Chahal 2020-10-31            30   1216502\n",
              "1277  YS Chahal 2020-11-02            30   1216505\n",
              "1278  YS Chahal 2020-11-06            29   1237178\n",
              "\n",
              "[1279 rows x 4 columns]"
            ]
          },
          "metadata": {
            "tags": []
          },
          "execution_count": 27
        }
      ]
    },
    {
      "cell_type": "markdown",
      "metadata": {
        "papermill": {
          "duration": 0.040708,
          "end_time": "2021-02-11T12:52:51.106348",
          "exception": false,
          "start_time": "2021-02-11T12:52:51.065640",
          "status": "completed"
        },
        "tags": [],
        "id": "suPG_gCRrT-4"
      },
      "source": [
        "**Final Submission Data has 1279 rows instead of 1283 because of one duplicate and 3 nan values**"
      ]
    },
    {
      "cell_type": "code",
      "metadata": {
        "execution": {
          "iopub.execute_input": "2021-02-11T12:52:51.214672Z",
          "iopub.status.busy": "2021-02-11T12:52:51.211569Z",
          "iopub.status.idle": "2021-02-11T12:52:51.234453Z",
          "shell.execute_reply": "2021-02-11T12:52:51.233746Z"
        },
        "papermill": {
          "duration": 0.087159,
          "end_time": "2021-02-11T12:52:51.234614",
          "exception": false,
          "start_time": "2021-02-11T12:52:51.147455",
          "status": "completed"
        },
        "tags": [],
        "id": "n5VsM-WSrT-4",
        "outputId": "4979c53f-153c-4c88-989b-293fa9fa165a"
      },
      "source": [
        "submission_final = pd.DataFrame()\n",
        "submission_final[\"Id\"] = submission_new[\"match_id\"].astype(str) + \"_\" + submission_new[\"player\"]\n",
        "submission_final[\"Total Points\"] = submission_new[\"Total Points\"]\n",
        "submission_final.loc[1279] = [\"1216517_KD Karthik\",0]\n",
        "submission_final.loc[1280] = [\"1216493_nan\",0]\n",
        "submission_final.loc[1281] = [\"1216512_nan\",0]\n",
        "submission_final.loc[1282] = [\"1216547_nan\",0]\n",
        "submission_final.sort_values(by= [\"Id\"],inplace = True)\n",
        "submission_final.reset_index(drop = True)"
      ],
      "execution_count": null,
      "outputs": [
        {
          "output_type": "execute_result",
          "data": {
            "text/html": [
              "<div>\n",
              "<style scoped>\n",
              "    .dataframe tbody tr th:only-of-type {\n",
              "        vertical-align: middle;\n",
              "    }\n",
              "\n",
              "    .dataframe tbody tr th {\n",
              "        vertical-align: top;\n",
              "    }\n",
              "\n",
              "    .dataframe thead th {\n",
              "        text-align: right;\n",
              "    }\n",
              "</style>\n",
              "<table border=\"1\" class=\"dataframe\">\n",
              "  <thead>\n",
              "    <tr style=\"text-align: right;\">\n",
              "      <th></th>\n",
              "      <th>Id</th>\n",
              "      <th>Total Points</th>\n",
              "    </tr>\n",
              "  </thead>\n",
              "  <tbody>\n",
              "    <tr>\n",
              "      <th>0</th>\n",
              "      <td>1216492_AS Yadav</td>\n",
              "      <td>26</td>\n",
              "    </tr>\n",
              "    <tr>\n",
              "      <th>1</th>\n",
              "      <td>1216492_AT Rayudu</td>\n",
              "      <td>31</td>\n",
              "    </tr>\n",
              "    <tr>\n",
              "      <th>2</th>\n",
              "      <td>1216492_DL Chahar</td>\n",
              "      <td>19</td>\n",
              "    </tr>\n",
              "    <tr>\n",
              "      <th>3</th>\n",
              "      <td>1216492_F du Plessis</td>\n",
              "      <td>36</td>\n",
              "    </tr>\n",
              "    <tr>\n",
              "      <th>4</th>\n",
              "      <td>1216492_HH Pandya</td>\n",
              "      <td>30</td>\n",
              "    </tr>\n",
              "    <tr>\n",
              "      <th>...</th>\n",
              "      <td>...</td>\n",
              "      <td>...</td>\n",
              "    </tr>\n",
              "    <tr>\n",
              "      <th>1278</th>\n",
              "      <td>1237181_S Hetmyer</td>\n",
              "      <td>39</td>\n",
              "    </tr>\n",
              "    <tr>\n",
              "      <th>1279</th>\n",
              "      <td>1237181_SA Yadav</td>\n",
              "      <td>16</td>\n",
              "    </tr>\n",
              "    <tr>\n",
              "      <th>1280</th>\n",
              "      <td>1237181_SS Iyer</td>\n",
              "      <td>30</td>\n",
              "    </tr>\n",
              "    <tr>\n",
              "      <th>1281</th>\n",
              "      <td>1237181_SS Tiwary</td>\n",
              "      <td>28</td>\n",
              "    </tr>\n",
              "    <tr>\n",
              "      <th>1282</th>\n",
              "      <td>1237181_TA Boult</td>\n",
              "      <td>30</td>\n",
              "    </tr>\n",
              "  </tbody>\n",
              "</table>\n",
              "<p>1283 rows × 2 columns</p>\n",
              "</div>"
            ],
            "text/plain": [
              "                        Id  Total Points\n",
              "0         1216492_AS Yadav            26\n",
              "1        1216492_AT Rayudu            31\n",
              "2        1216492_DL Chahar            19\n",
              "3     1216492_F du Plessis            36\n",
              "4        1216492_HH Pandya            30\n",
              "...                    ...           ...\n",
              "1278     1237181_S Hetmyer            39\n",
              "1279      1237181_SA Yadav            16\n",
              "1280       1237181_SS Iyer            30\n",
              "1281     1237181_SS Tiwary            28\n",
              "1282      1237181_TA Boult            30\n",
              "\n",
              "[1283 rows x 2 columns]"
            ]
          },
          "metadata": {
            "tags": []
          },
          "execution_count": 28
        }
      ]
    },
    {
      "cell_type": "code",
      "metadata": {
        "execution": {
          "iopub.execute_input": "2021-02-11T12:52:51.324854Z",
          "iopub.status.busy": "2021-02-11T12:52:51.324181Z",
          "iopub.status.idle": "2021-02-11T12:52:51.333816Z",
          "shell.execute_reply": "2021-02-11T12:52:51.333142Z"
        },
        "papermill": {
          "duration": 0.057002,
          "end_time": "2021-02-11T12:52:51.334002",
          "exception": false,
          "start_time": "2021-02-11T12:52:51.277000",
          "status": "completed"
        },
        "tags": [],
        "id": "k0oECOzFrT-5"
      },
      "source": [
        "submission_final.to_csv(\"submission.csv\",index=False)"
      ],
      "execution_count": null,
      "outputs": []
    }
  ]
}